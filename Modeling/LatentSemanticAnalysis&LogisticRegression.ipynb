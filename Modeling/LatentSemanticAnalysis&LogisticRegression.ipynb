{
 "cells": [
  {
   "cell_type": "markdown",
   "id": "b35e32b6-3a01-4939-9d42-4ef7ca00d13c",
   "metadata": {},
   "source": [
    "# Latent Semantic Analysis"
   ]
  },
  {
   "cell_type": "markdown",
   "id": "5119bc07-be26-473d-bf2a-3eebbfcb97ca",
   "metadata": {},
   "source": [
    "Latent Semantic Analysis is a natural language processing method that analyzes relationships between a set of documents and the terms contained within. It uses singular value decomposition, a mathematical technique, to scan unstructured data to find hidden relationships between terms and concepts."
   ]
  },
  {
   "cell_type": "code",
   "execution_count": 1,
   "id": "28b1b06b-85ad-48ef-b369-04b73edafe63",
   "metadata": {},
   "outputs": [],
   "source": [
    "import numpy as np\n",
    "import pandas as pd\n",
    "from sklearn.feature_extraction.text import TfidfVectorizer\n",
    "from sklearn.decomposition import TruncatedSVD\n",
    "\n",
    "from sklearn.model_selection import train_test_split, cross_validate, GridSearchCV, cross_val_score\n",
    "from sklearn.linear_model import LogisticRegressionCV\n",
    "from sklearn import svm\n",
    "from sklearn import metrics\n",
    "from sklearn.metrics import accuracy_score\n",
    "import matplotlib.pyplot as plt\n",
    "import seaborn as sns\n",
    "\n",
    "from sklearn.ensemble import RandomForestClassifier\n"
   ]
  },
  {
   "cell_type": "markdown",
   "id": "d2fd6e11-910e-4b8c-ae7c-7b28ff46c974",
   "metadata": {
    "tags": []
   },
   "source": [
    "### Load in the Labelled Dataset"
   ]
  },
  {
   "cell_type": "code",
   "execution_count": 2,
   "id": "ccf7fe88-64e6-4369-b24d-19fd5f257ab8",
   "metadata": {},
   "outputs": [
    {
     "data": {
      "text/html": [
       "<div>\n",
       "<style scoped>\n",
       "    .dataframe tbody tr th:only-of-type {\n",
       "        vertical-align: middle;\n",
       "    }\n",
       "\n",
       "    .dataframe tbody tr th {\n",
       "        vertical-align: top;\n",
       "    }\n",
       "\n",
       "    .dataframe thead th {\n",
       "        text-align: right;\n",
       "    }\n",
       "</style>\n",
       "<table border=\"1\" class=\"dataframe\">\n",
       "  <thead>\n",
       "    <tr style=\"text-align: right;\">\n",
       "      <th></th>\n",
       "      <th>Unnamed: 0.1</th>\n",
       "      <th>Unnamed: 0</th>\n",
       "      <th>Product</th>\n",
       "      <th>Reviewer Name</th>\n",
       "      <th>Rating</th>\n",
       "      <th>Text</th>\n",
       "      <th>Date</th>\n",
       "      <th>Country</th>\n",
       "      <th>ASIN</th>\n",
       "      <th>Language</th>\n",
       "      <th>Rules</th>\n",
       "      <th>Label</th>\n",
       "    </tr>\n",
       "  </thead>\n",
       "  <tbody>\n",
       "    <tr>\n",
       "      <th>0</th>\n",
       "      <td>0</td>\n",
       "      <td>0</td>\n",
       "      <td>Wireless Earbuds, yobola Bluetoth Earbuds, IPX...</td>\n",
       "      <td>Will of Burr</td>\n",
       "      <td>1.0 out of 5 stars</td>\n",
       "      <td>I am a real fan of headphones, probably becaus...</td>\n",
       "      <td>11/17/2022</td>\n",
       "      <td>United States 🇺🇸</td>\n",
       "      <td>B09LCVHCVX</td>\n",
       "      <td>en</td>\n",
       "      <td>3, 4, 5, 7 :</td>\n",
       "      <td>Suspicious</td>\n",
       "    </tr>\n",
       "    <tr>\n",
       "      <th>1</th>\n",
       "      <td>1</td>\n",
       "      <td>1</td>\n",
       "      <td>Wireless Earbuds, yobola Bluetoth Earbuds, IPX...</td>\n",
       "      <td>Allen Pak</td>\n",
       "      <td>5.0 out of 5 stars</td>\n",
       "      <td>To be honest.  I wasn't expecting much when I ...</td>\n",
       "      <td>10/25/2022</td>\n",
       "      <td>United States 🇺🇸</td>\n",
       "      <td>B09LCVHCVX</td>\n",
       "      <td>en</td>\n",
       "      <td>NaN</td>\n",
       "      <td>Not Suspicious</td>\n",
       "    </tr>\n",
       "    <tr>\n",
       "      <th>2</th>\n",
       "      <td>2</td>\n",
       "      <td>2</td>\n",
       "      <td>Wireless Earbuds, yobola Bluetoth Earbuds, IPX...</td>\n",
       "      <td>brenda</td>\n",
       "      <td>5.0 out of 5 stars</td>\n",
       "      <td>1st off they connected very easily which is al...</td>\n",
       "      <td>11/29/2022</td>\n",
       "      <td>United States 🇺🇸</td>\n",
       "      <td>B09LCVHCVX</td>\n",
       "      <td>en</td>\n",
       "      <td>3, 4, 6 :</td>\n",
       "      <td>Suspicious</td>\n",
       "    </tr>\n",
       "  </tbody>\n",
       "</table>\n",
       "</div>"
      ],
      "text/plain": [
       "   Unnamed: 0.1  Unnamed: 0   \n",
       "0             0           0  \\\n",
       "1             1           1   \n",
       "2             2           2   \n",
       "\n",
       "                                             Product Reviewer Name   \n",
       "0  Wireless Earbuds, yobola Bluetoth Earbuds, IPX...  Will of Burr  \\\n",
       "1  Wireless Earbuds, yobola Bluetoth Earbuds, IPX...     Allen Pak   \n",
       "2  Wireless Earbuds, yobola Bluetoth Earbuds, IPX...        brenda   \n",
       "\n",
       "               Rating                                               Text   \n",
       "0  1.0 out of 5 stars  I am a real fan of headphones, probably becaus...  \\\n",
       "1  5.0 out of 5 stars  To be honest.  I wasn't expecting much when I ...   \n",
       "2  5.0 out of 5 stars  1st off they connected very easily which is al...   \n",
       "\n",
       "         Date           Country        ASIN Language         Rules   \n",
       "0  11/17/2022  United States 🇺🇸  B09LCVHCVX       en  3, 4, 5, 7 :  \\\n",
       "1  10/25/2022  United States 🇺🇸  B09LCVHCVX       en           NaN   \n",
       "2  11/29/2022  United States 🇺🇸  B09LCVHCVX       en     3, 4, 6 :   \n",
       "\n",
       "            Label  \n",
       "0      Suspicious  \n",
       "1  Not Suspicious  \n",
       "2      Suspicious  "
      ]
     },
     "execution_count": 2,
     "metadata": {},
     "output_type": "execute_result"
    }
   ],
   "source": [
    "dfR = pd.read_csv(r'dfRLabelled.csv')\n",
    "dfR.head(3)"
   ]
  },
  {
   "cell_type": "code",
   "execution_count": 3,
   "id": "d6659d16-5169-47f4-b73f-c78edd8d7255",
   "metadata": {},
   "outputs": [
    {
     "data": {
      "text/plain": [
       "(2055, 12)"
      ]
     },
     "execution_count": 3,
     "metadata": {},
     "output_type": "execute_result"
    }
   ],
   "source": [
    "dfR.shape"
   ]
  },
  {
   "cell_type": "markdown",
   "id": "031d8b11-ac6b-4092-9ade-6beb565c7717",
   "metadata": {},
   "source": [
    "### Remove Reviews with No Text"
   ]
  },
  {
   "cell_type": "code",
   "execution_count": 4,
   "id": "c30b3fa7-f649-4b9e-a7ed-3506d1c93a92",
   "metadata": {},
   "outputs": [
    {
     "data": {
      "text/plain": [
       "(2011, 12)"
      ]
     },
     "execution_count": 4,
     "metadata": {},
     "output_type": "execute_result"
    }
   ],
   "source": [
    "dfR = dfR[dfR['Text'].notna()]\n",
    "dfR.shape"
   ]
  },
  {
   "cell_type": "markdown",
   "id": "da8c547b-ea41-48fe-945c-561e4db82eea",
   "metadata": {},
   "source": [
    "### Vectorize Reviews"
   ]
  },
  {
   "cell_type": "code",
   "execution_count": 5,
   "id": "d0e107a3-d62c-4947-8604-6f48b5b10f2e",
   "metadata": {},
   "outputs": [
    {
     "name": "stdout",
     "output_type": "stream",
     "text": [
      "(2011, 3192)\n"
     ]
    }
   ],
   "source": [
    "Vectorizer = TfidfVectorizer(analyzer='word',stop_words='english', ngram_range=(1,1))\n",
    "X          = Vectorizer.fit_transform(dfR.Text)\n",
    "print(X.shape)\n",
    "# No target y as latent semantic analysis is unsupervised.\n",
    "vocabulary = pd.Series(Vectorizer.get_feature_names_out())"
   ]
  },
  {
   "cell_type": "markdown",
   "id": "efa7b4ee-a16f-47fe-889a-e19c8bd0fe15",
   "metadata": {
    "tags": []
   },
   "source": [
    "### Compress Features"
   ]
  },
  {
   "cell_type": "code",
   "execution_count": 6,
   "id": "67048422-6334-4a49-8a0d-e7b365ef5f98",
   "metadata": {},
   "outputs": [
    {
     "name": "stdout",
     "output_type": "stream",
     "text": [
      "[0.014, 0.033, 0.046, 0.057, 0.068, 0.078, 0.088, 0.098, 0.107, 0.115, 0.123, 0.131, 0.138, 0.145, 0.152, 0.158, 0.165, 0.171, 0.177, 0.183, 0.189, 0.194, 0.2, 0.205, 0.21, 0.215, 0.22, 0.225, 0.23]\n"
     ]
    }
   ],
   "source": [
    "num_components_list = list(range(1,30))\n",
    "str_num_components_list = [str(i) for i in num_components_list]\n",
    "component_variances = []\n",
    "for component in num_components_list:\n",
    "  svd = TruncatedSVD(n_components = component)\n",
    "  Xc = svd.fit_transform(X)\n",
    "  component_variances.append(svd.explained_variance_ratio_.sum().round(3))\n",
    "print(component_variances)"
   ]
  },
  {
   "cell_type": "code",
   "execution_count": 7,
   "id": "92f98d4a-b610-497a-a056-6fcc1a1425a0",
   "metadata": {},
   "outputs": [
    {
     "data": {
      "image/png": "[encoded data removed]",
      "text/plain": [
       "<Figure size 640x480 with 1 Axes>"
      ]
     },
     "metadata": {},
     "output_type": "display_data"
    }
   ],
   "source": [
    "import matplotlib.pyplot as plt\n",
    "plt.scatter(num_components_list, component_variances)\n",
    "plt.title('Number of Components vs Explained Variance Ratio')\n",
    "plt.xlabel('Number of Components')\n",
    "plt.ylabel('Explained Variance Ratio')\n",
    "plt.show()"
   ]
  },
  {
   "cell_type": "markdown",
   "id": "8875279c-e6bc-41a9-98ec-dbb5f99d894a",
   "metadata": {},
   "source": [
    "23.5% of the variance in reviews is explained by the top 30 principle components."
   ]
  },
  {
   "cell_type": "code",
   "execution_count": 8,
   "id": "2f17466e-3ced-41fc-8fd5-83469cd005f9",
   "metadata": {},
   "outputs": [
    {
     "data": {
      "text/html": [
       "<div>\n",
       "<style scoped>\n",
       "    .dataframe tbody tr th:only-of-type {\n",
       "        vertical-align: middle;\n",
       "    }\n",
       "\n",
       "    .dataframe tbody tr th {\n",
       "        vertical-align: top;\n",
       "    }\n",
       "\n",
       "    .dataframe thead th {\n",
       "        text-align: right;\n",
       "    }\n",
       "</style>\n",
       "<table border=\"1\" class=\"dataframe\">\n",
       "  <thead>\n",
       "    <tr style=\"text-align: right;\">\n",
       "      <th></th>\n",
       "      <th>Text</th>\n",
       "      <th>Label</th>\n",
       "      <th>0</th>\n",
       "      <th>1</th>\n",
       "      <th>2</th>\n",
       "      <th>3</th>\n",
       "      <th>4</th>\n",
       "      <th>5</th>\n",
       "      <th>6</th>\n",
       "      <th>7</th>\n",
       "      <th>...</th>\n",
       "      <th>19</th>\n",
       "      <th>20</th>\n",
       "      <th>21</th>\n",
       "      <th>22</th>\n",
       "      <th>23</th>\n",
       "      <th>24</th>\n",
       "      <th>25</th>\n",
       "      <th>26</th>\n",
       "      <th>27</th>\n",
       "      <th>28</th>\n",
       "    </tr>\n",
       "  </thead>\n",
       "  <tbody>\n",
       "    <tr>\n",
       "      <th>0</th>\n",
       "      <td>I am a real fan of headphones, probably becaus...</td>\n",
       "      <td>Suspicious</td>\n",
       "      <td>0.238804</td>\n",
       "      <td>-0.055256</td>\n",
       "      <td>-0.195495</td>\n",
       "      <td>-0.124769</td>\n",
       "      <td>-0.065552</td>\n",
       "      <td>-0.066278</td>\n",
       "      <td>-0.004066</td>\n",
       "      <td>0.003892</td>\n",
       "      <td>...</td>\n",
       "      <td>0.004540</td>\n",
       "      <td>0.054032</td>\n",
       "      <td>0.059995</td>\n",
       "      <td>-0.055395</td>\n",
       "      <td>-0.091104</td>\n",
       "      <td>0.078151</td>\n",
       "      <td>-0.061675</td>\n",
       "      <td>0.071337</td>\n",
       "      <td>-0.013967</td>\n",
       "      <td>0.052318</td>\n",
       "    </tr>\n",
       "    <tr>\n",
       "      <th>1</th>\n",
       "      <td>To be honest.  I wasn't expecting much when I ...</td>\n",
       "      <td>Not Suspicious</td>\n",
       "      <td>0.334092</td>\n",
       "      <td>-0.095783</td>\n",
       "      <td>-0.149166</td>\n",
       "      <td>-0.006435</td>\n",
       "      <td>-0.077695</td>\n",
       "      <td>-0.151898</td>\n",
       "      <td>-0.022999</td>\n",
       "      <td>-0.024312</td>\n",
       "      <td>...</td>\n",
       "      <td>-0.150447</td>\n",
       "      <td>0.071133</td>\n",
       "      <td>0.000153</td>\n",
       "      <td>0.019140</td>\n",
       "      <td>-0.046512</td>\n",
       "      <td>0.091784</td>\n",
       "      <td>0.025456</td>\n",
       "      <td>-0.045702</td>\n",
       "      <td>0.061490</td>\n",
       "      <td>-0.094939</td>\n",
       "    </tr>\n",
       "    <tr>\n",
       "      <th>2</th>\n",
       "      <td>1st off they connected very easily which is al...</td>\n",
       "      <td>Suspicious</td>\n",
       "      <td>0.190134</td>\n",
       "      <td>-0.071170</td>\n",
       "      <td>-0.158540</td>\n",
       "      <td>-0.095621</td>\n",
       "      <td>-0.062029</td>\n",
       "      <td>-0.036417</td>\n",
       "      <td>0.009788</td>\n",
       "      <td>0.003825</td>\n",
       "      <td>...</td>\n",
       "      <td>-0.119402</td>\n",
       "      <td>0.025543</td>\n",
       "      <td>-0.021446</td>\n",
       "      <td>0.028658</td>\n",
       "      <td>0.059156</td>\n",
       "      <td>0.024968</td>\n",
       "      <td>-0.026216</td>\n",
       "      <td>-0.100372</td>\n",
       "      <td>-0.031428</td>\n",
       "      <td>-0.071464</td>\n",
       "    </tr>\n",
       "  </tbody>\n",
       "</table>\n",
       "<p>3 rows × 31 columns</p>\n",
       "</div>"
      ],
      "text/plain": [
       "                                                Text           Label   \n",
       "0  I am a real fan of headphones, probably becaus...      Suspicious  \\\n",
       "1  To be honest.  I wasn't expecting much when I ...  Not Suspicious   \n",
       "2  1st off they connected very easily which is al...      Suspicious   \n",
       "\n",
       "          0         1         2         3         4         5         6   \n",
       "0  0.238804 -0.055256 -0.195495 -0.124769 -0.065552 -0.066278 -0.004066  \\\n",
       "1  0.334092 -0.095783 -0.149166 -0.006435 -0.077695 -0.151898 -0.022999   \n",
       "2  0.190134 -0.071170 -0.158540 -0.095621 -0.062029 -0.036417  0.009788   \n",
       "\n",
       "          7  ...        19        20        21        22        23        24   \n",
       "0  0.003892  ...  0.004540  0.054032  0.059995 -0.055395 -0.091104  0.078151  \\\n",
       "1 -0.024312  ... -0.150447  0.071133  0.000153  0.019140 -0.046512  0.091784   \n",
       "2  0.003825  ... -0.119402  0.025543 -0.021446  0.028658  0.059156  0.024968   \n",
       "\n",
       "         25        26        27        28  \n",
       "0 -0.061675  0.071337 -0.013967  0.052318  \n",
       "1  0.025456 -0.045702  0.061490 -0.094939  \n",
       "2 -0.026216 -0.100372 -0.031428 -0.071464  \n",
       "\n",
       "[3 rows x 31 columns]"
      ]
     },
     "execution_count": 8,
     "metadata": {},
     "output_type": "execute_result"
    }
   ],
   "source": [
    "Xc = pd.DataFrame(Xc)\n",
    "# Allows for concatenating successfully\n",
    "dfR = dfR.reset_index()\n",
    "dfR_reduced = pd.concat([dfR.Text, dfR.Label,Xc],axis=1)\n",
    "dfR_reduced.head(3)"
   ]
  },
  {
   "cell_type": "code",
   "execution_count": 9,
   "id": "ca3aaf02-73d6-4d29-8246-99c7e3be4c58",
   "metadata": {},
   "outputs": [
    {
     "data": {
      "text/html": [
       "<div>\n",
       "<style scoped>\n",
       "    .dataframe tbody tr th:only-of-type {\n",
       "        vertical-align: middle;\n",
       "    }\n",
       "\n",
       "    .dataframe tbody tr th {\n",
       "        vertical-align: top;\n",
       "    }\n",
       "\n",
       "    .dataframe thead th {\n",
       "        text-align: right;\n",
       "    }\n",
       "</style>\n",
       "<table border=\"1\" class=\"dataframe\">\n",
       "  <thead>\n",
       "    <tr style=\"text-align: right;\">\n",
       "      <th></th>\n",
       "      <th>Text</th>\n",
       "      <th>Label</th>\n",
       "      <th>28</th>\n",
       "    </tr>\n",
       "  </thead>\n",
       "  <tbody>\n",
       "    <tr>\n",
       "      <th>488</th>\n",
       "      <td>Good headphones</td>\n",
       "      <td>Not Suspicious</td>\n",
       "      <td>0.30</td>\n",
       "    </tr>\n",
       "    <tr>\n",
       "      <th>148</th>\n",
       "      <td>Price is amazing and the sound is amazing</td>\n",
       "      <td>Not Suspicious</td>\n",
       "      <td>0.26</td>\n",
       "    </tr>\n",
       "    <tr>\n",
       "      <th>1228</th>\n",
       "      <td>Good quality headphones</td>\n",
       "      <td>Not Suspicious</td>\n",
       "      <td>0.24</td>\n",
       "    </tr>\n",
       "    <tr>\n",
       "      <th>1783</th>\n",
       "      <td>Amazing set of headphones, work really well an...</td>\n",
       "      <td>Not Suspicious</td>\n",
       "      <td>0.23</td>\n",
       "    </tr>\n",
       "    <tr>\n",
       "      <th>1188</th>\n",
       "      <td>Amazing sound quality</td>\n",
       "      <td>Not Suspicious</td>\n",
       "      <td>0.22</td>\n",
       "    </tr>\n",
       "    <tr>\n",
       "      <th>515</th>\n",
       "      <td>Sound great, amazing price and arrived same da...</td>\n",
       "      <td>Not Suspicious</td>\n",
       "      <td>0.22</td>\n",
       "    </tr>\n",
       "    <tr>\n",
       "      <th>237</th>\n",
       "      <td>Fit well and music sounds great!</td>\n",
       "      <td>Not Suspicious</td>\n",
       "      <td>-0.21</td>\n",
       "    </tr>\n",
       "    <tr>\n",
       "      <th>1486</th>\n",
       "      <td>Easy to connect to Bluetooth, comfortable - mu...</td>\n",
       "      <td>Not Suspicious</td>\n",
       "      <td>-0.22</td>\n",
       "    </tr>\n",
       "    <tr>\n",
       "      <th>1505</th>\n",
       "      <td>Look just like Airpods</td>\n",
       "      <td>Not Suspicious</td>\n",
       "      <td>-0.22</td>\n",
       "    </tr>\n",
       "    <tr>\n",
       "      <th>323</th>\n",
       "      <td>Just as comfortable as Apple AirPods and easy ...</td>\n",
       "      <td>Not Suspicious</td>\n",
       "      <td>-0.23</td>\n",
       "    </tr>\n",
       "    <tr>\n",
       "      <th>1257</th>\n",
       "      <td>I love how much the battery lasts because it’s...</td>\n",
       "      <td>Not Suspicious</td>\n",
       "      <td>-0.24</td>\n",
       "    </tr>\n",
       "  </tbody>\n",
       "</table>\n",
       "</div>"
      ],
      "text/plain": [
       "                                                   Text           Label    28\n",
       "488                                     Good headphones  Not Suspicious  0.30\n",
       "148           Price is amazing and the sound is amazing  Not Suspicious  0.26\n",
       "1228                            Good quality headphones  Not Suspicious  0.24\n",
       "1783  Amazing set of headphones, work really well an...  Not Suspicious  0.23\n",
       "1188                              Amazing sound quality  Not Suspicious  0.22\n",
       "515   Sound great, amazing price and arrived same da...  Not Suspicious  0.22\n",
       "237                    Fit well and music sounds great!  Not Suspicious -0.21\n",
       "1486  Easy to connect to Bluetooth, comfortable - mu...  Not Suspicious -0.22\n",
       "1505                             Look just like Airpods  Not Suspicious -0.22\n",
       "323   Just as comfortable as Apple AirPods and easy ...  Not Suspicious -0.23\n",
       "1257  I love how much the battery lasts because it’s...  Not Suspicious -0.24"
      ]
     },
     "execution_count": 9,
     "metadata": {},
     "output_type": "execute_result"
    }
   ],
   "source": [
    "k = 28\n",
    "ix = [0,1,2,3,4,5,-5,-4,-3,-2,-1]\n",
    "dfR_reduced[dfR_reduced.Label == 'Not Suspicious'].sort_values(k,ascending=False).iloc[ix,:][['Text','Label',k]].round(2)"
   ]
  },
  {
   "cell_type": "code",
   "execution_count": 10,
   "id": "46e37136-68b6-4946-a372-6cfb628e55ec",
   "metadata": {},
   "outputs": [
    {
     "data": {
      "text/plain": [
       "headphones    0.35\n",
       "brilliant     0.22\n",
       "amazing       0.21\n",
       "sound         0.19\n",
       "fall          0.15\n",
       "pair          0.11\n",
       "apple        -0.19\n",
       "long         -0.21\n",
       "fit          -0.21\n",
       "better       -0.26\n",
       "airpods      -0.30\n",
       "dtype: float64"
      ]
     },
     "execution_count": 10,
     "metadata": {},
     "output_type": "execute_result"
    }
   ],
   "source": [
    "# view components in terms of vocabulary\n",
    "components = svd.components_\n",
    "\n",
    "k = 28\n",
    "component = pd.Series(components[k,:],index=vocabulary)\n",
    "component.sort_values(ascending=False)[ix].round(2)"
   ]
  },
  {
   "cell_type": "code",
   "execution_count": 11,
   "id": "845c3b84-cc1e-4abc-99ca-b4076cb501a7",
   "metadata": {},
   "outputs": [
    {
     "data": {
      "text/plain": [
       "array([ 0.00014544, -0.01795769, -0.00435662, ..., -0.00060178,\n",
       "       -0.00070839, -0.00158877])"
      ]
     },
     "execution_count": 11,
     "metadata": {},
     "output_type": "execute_result"
    }
   ],
   "source": [
    "components[1,:]"
   ]
  },
  {
   "cell_type": "markdown",
   "id": "e60f68db-3d0b-487d-a149-c28763457dae",
   "metadata": {},
   "source": [
    "In latent semantic analysis, documents are compared by cosine similarity between any two columns. Values close to 1 represent very similar documents while values close to 0 represent very dissimilar documents. As 'good' has a 0.77 component value, there is a strong association within that component."
   ]
  },
  {
   "cell_type": "markdown",
   "id": "f292982a-efae-43b1-9a9a-7d4f4530bce1",
   "metadata": {},
   "source": [
    "# Logistic Regression"
   ]
  },
  {
   "cell_type": "markdown",
   "id": "2ee9e80b-ada9-49ae-ac93-84b6998faf95",
   "metadata": {},
   "source": [
    "### Train-Test Split"
   ]
  },
  {
   "cell_type": "code",
   "execution_count": 12,
   "id": "736a14bf-bb1c-470a-8c27-205a93e98413",
   "metadata": {},
   "outputs": [],
   "source": [
    "X = dfR_reduced.drop(['Text', 'Label'], axis=1)\n",
    "y = dfR.Label\n",
    "X_train, X_test, y_train, y_test = train_test_split(X,y, train_size=0.7, stratify = y, random_state=0)"
   ]
  },
  {
   "cell_type": "code",
   "execution_count": 13,
   "id": "6f19465b-1173-4981-b596-642acff50498",
   "metadata": {},
   "outputs": [
    {
     "data": {
      "text/plain": [
       "(604, 29)"
      ]
     },
     "execution_count": 13,
     "metadata": {},
     "output_type": "execute_result"
    }
   ],
   "source": [
    "X_test.shape"
   ]
  },
  {
   "cell_type": "markdown",
   "id": "4ddd9fe1-de22-40c2-bade-d942f47e894f",
   "metadata": {},
   "source": [
    "### Fit Model"
   ]
  },
  {
   "cell_type": "code",
   "execution_count": 14,
   "id": "ae745e82-3085-47f7-b5ca-d4eba73b1e54",
   "metadata": {},
   "outputs": [],
   "source": [
    "# Look at regularization values\n",
    "logisticRegr = LogisticRegressionCV(penalty='l1', solver='liblinear')\n",
    "lrModel = logisticRegr.fit(X_train, y_train)"
   ]
  },
  {
   "cell_type": "markdown",
   "id": "37953049-8010-4161-8c59-42cf3c2527ab",
   "metadata": {},
   "source": [
    "### Examine Coefficients"
   ]
  },
  {
   "cell_type": "code",
   "execution_count": 15,
   "id": "93265fd6-1e48-4e30-bff6-8e63a1a08357",
   "metadata": {},
   "outputs": [
    {
     "data": {
      "text/html": [
       "<div>\n",
       "<style scoped>\n",
       "    .dataframe tbody tr th:only-of-type {\n",
       "        vertical-align: middle;\n",
       "    }\n",
       "\n",
       "    .dataframe tbody tr th {\n",
       "        vertical-align: top;\n",
       "    }\n",
       "\n",
       "    .dataframe thead th {\n",
       "        text-align: right;\n",
       "    }\n",
       "</style>\n",
       "<table border=\"1\" class=\"dataframe\">\n",
       "  <thead>\n",
       "    <tr style=\"text-align: right;\">\n",
       "      <th></th>\n",
       "      <th>Coefficients</th>\n",
       "    </tr>\n",
       "  </thead>\n",
       "  <tbody>\n",
       "    <tr>\n",
       "      <th>23</th>\n",
       "      <td>-2.324532</td>\n",
       "    </tr>\n",
       "    <tr>\n",
       "      <th>3</th>\n",
       "      <td>-2.498928</td>\n",
       "    </tr>\n",
       "    <tr>\n",
       "      <th>14</th>\n",
       "      <td>-2.650724</td>\n",
       "    </tr>\n",
       "    <tr>\n",
       "      <th>28</th>\n",
       "      <td>-3.758973</td>\n",
       "    </tr>\n",
       "    <tr>\n",
       "      <th>0</th>\n",
       "      <td>-4.003701</td>\n",
       "    </tr>\n",
       "  </tbody>\n",
       "</table>\n",
       "</div>"
      ],
      "text/plain": [
       "    Coefficients\n",
       "23     -2.324532\n",
       "3      -2.498928\n",
       "14     -2.650724\n",
       "28     -3.758973\n",
       "0      -4.003701"
      ]
     },
     "execution_count": 15,
     "metadata": {},
     "output_type": "execute_result"
    }
   ],
   "source": [
    "# Look at words associated with top components \n",
    "model_coefs = pd.Series(lrModel.coef_.ravel(), index=X_train.columns.tolist())\n",
    "model_coefsDF = pd.DataFrame(model_coefs, columns = ['Coefficients'])\n",
    "#model_coefsDF.sort_values(by='Coefficients', ascending=False).head(5)\n",
    "model_coefsDF.sort_values(by='Coefficients', ascending=False).tail(5)"
   ]
  },
  {
   "cell_type": "markdown",
   "id": "8363c0a5-ea19-48cd-8228-86d1f4cadc3a",
   "metadata": {},
   "source": [
    "### Examine Test Accuracy"
   ]
  },
  {
   "cell_type": "code",
   "execution_count": 16,
   "id": "9cc8f3ac-d8a2-4c61-a6fe-dea8d51ea300",
   "metadata": {},
   "outputs": [],
   "source": [
    "predictions = logisticRegr.predict(X_test)"
   ]
  },
  {
   "cell_type": "code",
   "execution_count": 17,
   "id": "62a2af4f-096a-4a99-a317-839bc54006d7",
   "metadata": {},
   "outputs": [
    {
     "data": {
      "image/png": "[encoded data removed]",
      "text/plain": [
       "<Figure size 640x480 with 2 Axes>"
      ]
     },
     "metadata": {},
     "output_type": "display_data"
    }
   ],
   "source": [
    "score = logisticRegr.score(X_test, y_test)\n",
    "cm = metrics.confusion_matrix(y_test, predictions, normalize='all')\n",
    "#plt.figure(figsize=(9,9))\n",
    "ax= plt.subplot()\n",
    "sns.heatmap(cm, annot=True, fmt=\".3f\", linewidths=.5, square = True, cmap = 'Blues_r', ax=ax);\n",
    "plt.ylabel('True label');\n",
    "plt.xlabel('Predicted label');\n",
    "all_sample_title = 'Logistic Regression Accuracy Score: {0}'.format(score.round(3))\n",
    "plt.title(all_sample_title, size = 15);\n",
    "ax.xaxis.set_ticklabels(['Not Suspicious', 'Suspicious']); ax.yaxis.set_ticklabels(['Not Suspicious', 'Suspicious']);"
   ]
  },
  {
   "cell_type": "markdown",
   "id": "4b787d61-28bf-4b35-943f-7bffddc3b6ed",
   "metadata": {},
   "source": [
    "We will let the null hypothesis, $H_0$, be that the review is not suspicious. Thus, the alternative hypothesis, $H_a$, is that the review is suspicious. Predicting a suspicious review to be not suspicious is a more serious error in this case given that the end goal is to identify suspicious reviews for both the consumer and distributor. Incorrectly labelling not suspicious reviews as suspicious would be the more preferable error as this aligns with the principle of erring on the side of caution. In terms of statistical hypothesis testing, this translates to committing a type II error being of more importance than committing a type I error. Within the testing set, the probability of committing a type II error is 0.195."
   ]
  },
  {
   "cell_type": "markdown",
   "id": "adbaf438-7593-43af-a8ef-2156853d5118",
   "metadata": {},
   "source": [
    "# Random Forests"
   ]
  },
  {
   "cell_type": "markdown",
   "id": "9b586a6a-69e6-40f6-b718-be448a573d3a",
   "metadata": {},
   "source": [
    "### Fit the Model"
   ]
  },
  {
   "cell_type": "code",
   "execution_count": 18,
   "id": "0cae1dbd-647f-4b8a-b6c2-bb1308c39c5d",
   "metadata": {},
   "outputs": [
    {
     "name": "stdout",
     "output_type": "stream",
     "text": [
      "Fitting 10 folds for each of 40 candidates, totalling 400 fits\n"
     ]
    }
   ],
   "source": [
    "rf_params = {\"n_estimators\" :[100,200,500,1000],  \n",
    "             \"max_depth\": [10, 20, 30, 40, 50, 60, 70, 80, 90, 100]}\n",
    "\n",
    "rf_model = RandomForestClassifier(random_state = 0)\n",
    "\n",
    "rf_cv_model = GridSearchCV(rf_model, rf_params, cv = 10, n_jobs = -1,verbose = 1).fit(X_train, y_train)\n",
    "\n",
    "rf_tuned = RandomForestClassifier(**rf_cv_model.best_params_).fit(X_train, y_train)"
   ]
  },
  {
   "cell_type": "markdown",
   "id": "6e693e99-ddc9-4061-bb20-74d081e7f21a",
   "metadata": {},
   "source": [
    "### Examine Training Accuracy"
   ]
  },
  {
   "cell_type": "code",
   "execution_count": null,
   "id": "14ad8dc5-3ea4-4367-87bb-2def38ecbf8e",
   "metadata": {},
   "outputs": [
    {
     "name": "stdout",
     "output_type": "stream",
     "text": [
      "Best Model Parameters and Scores:\n"
     ]
    }
   ],
   "source": [
    "tuned = [rf_tuned]\n",
    "print(\"Best Model Parameters and Scores:\")\n",
    "for i in tuned:\n",
    "    score = cross_val_score(i, X_train, y_train, cv = 10).mean()\n",
    "    testScore = cross_val_score(i, X_test, y_test, cv=10).mean()\n",
    "    print(i,\"Train Score:\",score)\n",
    "    print(i, \"Test Score\", testScore)"
   ]
  },
  {
   "cell_type": "markdown",
   "id": "c3d2555e-3a7b-483b-a1ed-ebb81f3700cb",
   "metadata": {},
   "source": [
    "### Predict Labels"
   ]
  },
  {
   "cell_type": "code",
   "execution_count": null,
   "id": "d9a65bcb-491d-47ea-bcd0-86924999f36d",
   "metadata": {},
   "outputs": [],
   "source": [
    "predictions = rf_tuned.predict(X_test)"
   ]
  },
  {
   "cell_type": "code",
   "execution_count": null,
   "id": "0390c158-f53a-436f-8616-eb428b8d976e",
   "metadata": {},
   "outputs": [],
   "source": [
    "score = rf_tuned.score(X_test, y_test)\n",
    "cm = metrics.confusion_matrix(y_test, predictions, normalize='all')\n",
    "#plt.figure(figsize=(9,9))\n",
    "ax= plt.subplot()\n",
    "sns.heatmap(cm, annot=True, fmt=\".3f\", linewidths=.5, square = True, cmap = 'Blues_r', ax=ax);\n",
    "plt.ylabel('True label');\n",
    "plt.xlabel('Predicted label');\n",
    "all_sample_title = 'Random Forests Accuracy Score: {0}'.format(score.round(3))\n",
    "plt.title(all_sample_title, size = 15);\n",
    "ax.xaxis.set_ticklabels(['Not Suspicious', 'Suspicious']); ax.yaxis.set_ticklabels(['Not Suspicious', 'Suspicious']);"
   ]
  },
  {
   "cell_type": "markdown",
   "id": "4d2753cd-dd72-4ab7-91b0-18cbc435c696",
   "metadata": {},
   "source": [
    "# Support Vector Machines"
   ]
  },
  {
   "cell_type": "markdown",
   "id": "bc7798e7-723f-4548-9367-2414b514c4fa",
   "metadata": {},
   "source": [
    "### Fit the Model"
   ]
  },
  {
   "cell_type": "code",
   "execution_count": null,
   "id": "59937cba-368e-466a-bc37-2e96984e24d4",
   "metadata": {},
   "outputs": [],
   "source": [
    "svm_params = [\n",
    "  {'C': [1, 10, 100, 1000], 'kernel': ['linear']},\n",
    "  {'C': [1, 10, 100, 1000], 'gamma': [0.001, 0.0001], 'kernel': ['rbf']},\n",
    " ]"
   ]
  },
  {
   "cell_type": "code",
   "execution_count": null,
   "id": "07c2e419-8e44-42b1-825f-ebbc9aa948a7",
   "metadata": {},
   "outputs": [],
   "source": [
    "svm_model = svm.SVC(random_state = 0)\n",
    "svm_cv_model = GridSearchCV(svm_model, svm_params, cv = 10, n_jobs = -1,verbose = 1).fit(X_train, y_train)\n",
    "svm_tuned = svm.SVC(**svm_cv_model.best_params_).fit(X_train, y_train)"
   ]
  },
  {
   "cell_type": "code",
   "execution_count": null,
   "id": "f2882ca6-f7c5-4f9f-9acc-bc5de031b709",
   "metadata": {},
   "outputs": [],
   "source": [
    "tuned = [svm_tuned]\n",
    "print(\"Best Model Parameters and Scores:\")\n",
    "for i in tuned:\n",
    "    score = cross_val_score(i, X_train, y_train, cv = 10).mean()\n",
    "    testScore = cross_val_score(i, X_test, y_test, cv=10).mean()\n",
    "    print(i,\"Train Score:\",score)\n",
    "    print(i, \"Test Score\", testScore)"
   ]
  },
  {
   "cell_type": "markdown",
   "id": "3f28ae0e-a631-466c-b043-91f4c2b3c655",
   "metadata": {},
   "source": [
    "### Predict Labels"
   ]
  },
  {
   "cell_type": "code",
   "execution_count": null,
   "id": "04f15895-f64b-4721-8537-ee12c687434c",
   "metadata": {},
   "outputs": [],
   "source": [
    "predictions = svm_tuned.predict(X_test)"
   ]
  },
  {
   "cell_type": "code",
   "execution_count": null,
   "id": "d849b853-43f4-4e79-a01a-c23adcb154bd",
   "metadata": {},
   "outputs": [],
   "source": [
    "score = svm_tuned.score(X_test, y_test)\n",
    "cm = metrics.confusion_matrix(y_test, predictions, normalize='all')\n",
    "#plt.figure(figsize=(9,9))\n",
    "ax= plt.subplot()\n",
    "sns.heatmap(cm, annot=True, fmt=\".3f\", linewidths=.5, square = True, cmap = 'Blues_r', ax=ax);\n",
    "plt.ylabel('True label');\n",
    "plt.xlabel('Predicted label');\n",
    "all_sample_title = 'SVM Accuracy Score: {0}'.format(score.round(3))\n",
    "plt.title(all_sample_title, size = 15);\n",
    "ax.xaxis.set_ticklabels(['Not Suspicious', 'Suspicious']); ax.yaxis.set_ticklabels(['Not Suspicious', 'Suspicious']);"
   ]
  }
 ],
 "metadata": {
  "kernelspec": {
   "display_name": "Python 3 (ipykernel)",
   "language": "python",
   "name": "python3"
  },
  "language_info": {
   "codemirror_mode": {
    "name": "ipython",
    "version": 3
   },
   "file_extension": ".py",
   "mimetype": "text/x-python",
   "name": "python",
   "nbconvert_exporter": "python",
   "pygments_lexer": "ipython3",
   "version": "3.9.16"
  }
 },
 "nbformat": 4,
 "nbformat_minor": 5
}
