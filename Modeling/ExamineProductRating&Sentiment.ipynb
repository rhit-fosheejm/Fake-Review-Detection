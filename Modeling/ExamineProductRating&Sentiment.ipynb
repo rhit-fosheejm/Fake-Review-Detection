{
 "cells": [
  {
   "cell_type": "code",
   "execution_count": 1,
   "id": "84e681f5-08ff-4b68-af7d-b193d798ee96",
   "metadata": {},
   "outputs": [],
   "source": [
    "import numpy as np\n",
    "import pandas as pd\n",
    "\n",
    "import seaborn as sns\n",
    "import matplotlib.pyplot as plt\n",
    "\n",
    "import nltk\n",
    "from nltk.sentiment.vader import SentimentIntensityAnalyzer"
   ]
  },
  {
   "cell_type": "markdown",
   "id": "b8ec24fa-cd2b-46c7-b159-067ac92d74e6",
   "metadata": {},
   "source": [
    "### Load in Labeled Dataset"
   ]
  },
  {
   "cell_type": "code",
   "execution_count": 2,
   "id": "4fc95183-1945-432b-ad17-7b6a00889081",
   "metadata": {},
   "outputs": [
    {
     "data": {
      "text/html": [
       "<div>\n",
       "<style scoped>\n",
       "    .dataframe tbody tr th:only-of-type {\n",
       "        vertical-align: middle;\n",
       "    }\n",
       "\n",
       "    .dataframe tbody tr th {\n",
       "        vertical-align: top;\n",
       "    }\n",
       "\n",
       "    .dataframe thead th {\n",
       "        text-align: right;\n",
       "    }\n",
       "</style>\n",
       "<table border=\"1\" class=\"dataframe\">\n",
       "  <thead>\n",
       "    <tr style=\"text-align: right;\">\n",
       "      <th></th>\n",
       "      <th>Unnamed: 0.1</th>\n",
       "      <th>Unnamed: 0</th>\n",
       "      <th>Product</th>\n",
       "      <th>Reviewer Name</th>\n",
       "      <th>Rating</th>\n",
       "      <th>Text</th>\n",
       "      <th>Date</th>\n",
       "      <th>Country</th>\n",
       "      <th>ASIN</th>\n",
       "      <th>Language</th>\n",
       "      <th>Rules</th>\n",
       "      <th>Label</th>\n",
       "    </tr>\n",
       "  </thead>\n",
       "  <tbody>\n",
       "    <tr>\n",
       "      <th>0</th>\n",
       "      <td>0</td>\n",
       "      <td>0</td>\n",
       "      <td>Wireless Earbuds, yobola Bluetoth Earbuds, IPX...</td>\n",
       "      <td>Will of Burr</td>\n",
       "      <td>1.0 out of 5 stars</td>\n",
       "      <td>I am a real fan of headphones, probably becaus...</td>\n",
       "      <td>11/17/2022</td>\n",
       "      <td>United States 🇺🇸</td>\n",
       "      <td>B09LCVHCVX</td>\n",
       "      <td>en</td>\n",
       "      <td>3, 4, 5, 7 :</td>\n",
       "      <td>Suspicious</td>\n",
       "    </tr>\n",
       "    <tr>\n",
       "      <th>1</th>\n",
       "      <td>1</td>\n",
       "      <td>1</td>\n",
       "      <td>Wireless Earbuds, yobola Bluetoth Earbuds, IPX...</td>\n",
       "      <td>Allen Pak</td>\n",
       "      <td>5.0 out of 5 stars</td>\n",
       "      <td>To be honest.  I wasn't expecting much when I ...</td>\n",
       "      <td>10/25/2022</td>\n",
       "      <td>United States 🇺🇸</td>\n",
       "      <td>B09LCVHCVX</td>\n",
       "      <td>en</td>\n",
       "      <td>NaN</td>\n",
       "      <td>Not Suspicious</td>\n",
       "    </tr>\n",
       "    <tr>\n",
       "      <th>2</th>\n",
       "      <td>2</td>\n",
       "      <td>2</td>\n",
       "      <td>Wireless Earbuds, yobola Bluetoth Earbuds, IPX...</td>\n",
       "      <td>brenda</td>\n",
       "      <td>5.0 out of 5 stars</td>\n",
       "      <td>1st off they connected very easily which is al...</td>\n",
       "      <td>11/29/2022</td>\n",
       "      <td>United States 🇺🇸</td>\n",
       "      <td>B09LCVHCVX</td>\n",
       "      <td>en</td>\n",
       "      <td>3, 4, 6 :</td>\n",
       "      <td>Suspicious</td>\n",
       "    </tr>\n",
       "  </tbody>\n",
       "</table>\n",
       "</div>"
      ],
      "text/plain": [
       "   Unnamed: 0.1  Unnamed: 0   \n",
       "0             0           0  \\\n",
       "1             1           1   \n",
       "2             2           2   \n",
       "\n",
       "                                             Product Reviewer Name   \n",
       "0  Wireless Earbuds, yobola Bluetoth Earbuds, IPX...  Will of Burr  \\\n",
       "1  Wireless Earbuds, yobola Bluetoth Earbuds, IPX...     Allen Pak   \n",
       "2  Wireless Earbuds, yobola Bluetoth Earbuds, IPX...        brenda   \n",
       "\n",
       "               Rating                                               Text   \n",
       "0  1.0 out of 5 stars  I am a real fan of headphones, probably becaus...  \\\n",
       "1  5.0 out of 5 stars  To be honest.  I wasn't expecting much when I ...   \n",
       "2  5.0 out of 5 stars  1st off they connected very easily which is al...   \n",
       "\n",
       "         Date           Country        ASIN Language         Rules   \n",
       "0  11/17/2022  United States 🇺🇸  B09LCVHCVX       en  3, 4, 5, 7 :  \\\n",
       "1  10/25/2022  United States 🇺🇸  B09LCVHCVX       en           NaN   \n",
       "2  11/29/2022  United States 🇺🇸  B09LCVHCVX       en     3, 4, 6 :   \n",
       "\n",
       "            Label  \n",
       "0      Suspicious  \n",
       "1  Not Suspicious  \n",
       "2      Suspicious  "
      ]
     },
     "execution_count": 2,
     "metadata": {},
     "output_type": "execute_result"
    }
   ],
   "source": [
    "dfR = pd.read_csv(r'dfRLabelled.csv')\n",
    "dfR.head(3)"
   ]
  },
  {
   "cell_type": "code",
   "execution_count": 3,
   "id": "93b1bda4-dc7c-4296-a8ea-898c37bef13b",
   "metadata": {},
   "outputs": [
    {
     "data": {
      "text/plain": [
       "(2055, 12)"
      ]
     },
     "execution_count": 3,
     "metadata": {},
     "output_type": "execute_result"
    }
   ],
   "source": [
    "dfR.shape"
   ]
  },
  {
   "cell_type": "markdown",
   "id": "d8851570-9aef-4643-a4d7-ed20cde373db",
   "metadata": {},
   "source": [
    "### Remove Reviews with No Text"
   ]
  },
  {
   "cell_type": "code",
   "execution_count": 4,
   "id": "39aa0cd3-94b8-471b-8454-c8f17e1a80e4",
   "metadata": {},
   "outputs": [
    {
     "data": {
      "text/plain": [
       "(2011, 12)"
      ]
     },
     "execution_count": 4,
     "metadata": {},
     "output_type": "execute_result"
    }
   ],
   "source": [
    "dfR = dfR[dfR['Text'].notna()]\n",
    "dfR.shape"
   ]
  },
  {
   "cell_type": "markdown",
   "id": "b8e4c897-6506-4607-9ef6-2e1099e2eb75",
   "metadata": {},
   "source": [
    "# Product rating"
   ]
  },
  {
   "cell_type": "markdown",
   "id": "54435594-5092-4176-aa1b-d8a72723b052",
   "metadata": {},
   "source": [
    "### Create Product Rating Column"
   ]
  },
  {
   "cell_type": "code",
   "execution_count": 5,
   "id": "3236efaa-b865-4558-9d0f-5a60c0538ed4",
   "metadata": {},
   "outputs": [],
   "source": [
    "# Creates Column Stars w/ Rating from 1-5 (-1,1)\n",
    "dfR['Stars'] = dfR['Rating'].str[:1]\n",
    "dfR.Stars = dfR.Stars.astype(int)"
   ]
  },
  {
   "cell_type": "markdown",
   "id": "c7155e6e-3505-4c64-a881-e5da990ab1bd",
   "metadata": {},
   "source": [
    "### Table of Product Rating Averages"
   ]
  },
  {
   "cell_type": "code",
   "execution_count": 6,
   "id": "742acb3b-d132-4f03-8e28-ed5cd5d91c41",
   "metadata": {},
   "outputs": [
    {
     "data": {
      "text/html": [
       "<div>\n",
       "<style scoped>\n",
       "    .dataframe tbody tr th:only-of-type {\n",
       "        vertical-align: middle;\n",
       "    }\n",
       "\n",
       "    .dataframe tbody tr th {\n",
       "        vertical-align: top;\n",
       "    }\n",
       "\n",
       "    .dataframe thead th {\n",
       "        text-align: right;\n",
       "    }\n",
       "</style>\n",
       "<table border=\"1\" class=\"dataframe\">\n",
       "  <thead>\n",
       "    <tr style=\"text-align: right;\">\n",
       "      <th>Label</th>\n",
       "      <th>Not Suspicious</th>\n",
       "      <th>Suspicious</th>\n",
       "    </tr>\n",
       "  </thead>\n",
       "  <tbody>\n",
       "    <tr>\n",
       "      <th>Stars</th>\n",
       "      <td>4.03</td>\n",
       "      <td>4.193</td>\n",
       "    </tr>\n",
       "  </tbody>\n",
       "</table>\n",
       "</div>"
      ],
      "text/plain": [
       "Label  Not Suspicious  Suspicious\n",
       "Stars            4.03       4.193"
      ]
     },
     "execution_count": 6,
     "metadata": {},
     "output_type": "execute_result"
    }
   ],
   "source": [
    "GdfRM = dfR.pivot_table(values='Stars',columns=['Label'],aggfunc='mean').round(3)\n",
    "GdfRM"
   ]
  },
  {
   "cell_type": "code",
   "execution_count": 7,
   "id": "a5a1513c-7208-4262-ad3b-7e50ad1b9504",
   "metadata": {},
   "outputs": [
    {
     "data": {
      "text/html": [
       "<div>\n",
       "<style scoped>\n",
       "    .dataframe tbody tr th:only-of-type {\n",
       "        vertical-align: middle;\n",
       "    }\n",
       "\n",
       "    .dataframe tbody tr th {\n",
       "        vertical-align: top;\n",
       "    }\n",
       "\n",
       "    .dataframe thead th {\n",
       "        text-align: right;\n",
       "    }\n",
       "</style>\n",
       "<table border=\"1\" class=\"dataframe\">\n",
       "  <thead>\n",
       "    <tr style=\"text-align: right;\">\n",
       "      <th></th>\n",
       "      <th>count</th>\n",
       "      <th>mean</th>\n",
       "      <th>std</th>\n",
       "      <th>min</th>\n",
       "      <th>25%</th>\n",
       "      <th>50%</th>\n",
       "      <th>75%</th>\n",
       "      <th>max</th>\n",
       "    </tr>\n",
       "    <tr>\n",
       "      <th>Label</th>\n",
       "      <th></th>\n",
       "      <th></th>\n",
       "      <th></th>\n",
       "      <th></th>\n",
       "      <th></th>\n",
       "      <th></th>\n",
       "      <th></th>\n",
       "      <th></th>\n",
       "    </tr>\n",
       "  </thead>\n",
       "  <tbody>\n",
       "    <tr>\n",
       "      <th>Not Suspicious</th>\n",
       "      <td>1525.0</td>\n",
       "      <td>4.029508</td>\n",
       "      <td>1.489172</td>\n",
       "      <td>1.0</td>\n",
       "      <td>4.0</td>\n",
       "      <td>5.0</td>\n",
       "      <td>5.0</td>\n",
       "      <td>5.0</td>\n",
       "    </tr>\n",
       "    <tr>\n",
       "      <th>Suspicious</th>\n",
       "      <td>486.0</td>\n",
       "      <td>4.193416</td>\n",
       "      <td>1.359062</td>\n",
       "      <td>1.0</td>\n",
       "      <td>4.0</td>\n",
       "      <td>5.0</td>\n",
       "      <td>5.0</td>\n",
       "      <td>5.0</td>\n",
       "    </tr>\n",
       "  </tbody>\n",
       "</table>\n",
       "</div>"
      ],
      "text/plain": [
       "                 count      mean       std  min  25%  50%  75%  max\n",
       "Label                                                              \n",
       "Not Suspicious  1525.0  4.029508  1.489172  1.0  4.0  5.0  5.0  5.0\n",
       "Suspicious       486.0  4.193416  1.359062  1.0  4.0  5.0  5.0  5.0"
      ]
     },
     "execution_count": 7,
     "metadata": {},
     "output_type": "execute_result"
    }
   ],
   "source": [
    "dfR.groupby('Label')['Stars'].describe()"
   ]
  },
  {
   "cell_type": "markdown",
   "id": "b1b1d0dc-bd70-4dce-9c79-dc5c25d4109f",
   "metadata": {},
   "source": [
    "### Boxplots Grouped by Label"
   ]
  },
  {
   "cell_type": "code",
   "execution_count": 22,
   "id": "57ce4e81-475d-4c96-aa15-f864d81be932",
   "metadata": {},
   "outputs": [
    {
     "data": {
      "text/plain": [
       "Not Suspicious         Axes(0.1,0.15;0.363636x0.75)\n",
       "Suspicious        Axes(0.536364,0.15;0.363636x0.75)\n",
       "dtype: object"
      ]
     },
     "execution_count": 22,
     "metadata": {},
     "output_type": "execute_result"
    },
    {
     "data": {
      "image/png": "[encoded data removed]",
      "text/plain": [
       "<Figure size 640x480 with 2 Axes>"
      ]
     },
     "metadata": {},
     "output_type": "display_data"
    }
   ],
   "source": [
    "d = dfR.groupby('Label')\n",
    "d.boxplot(column=['Stars'])"
   ]
  },
  {
   "cell_type": "code",
   "execution_count": 10,
   "id": "375b2b31-18de-491d-abaa-9a2f4508dabd",
   "metadata": {},
   "outputs": [
    {
     "data": {
      "image/png": "[encoded data removed]",
      "text/plain": [
       "<Figure size 640x480 with 1 Axes>"
      ]
     },
     "metadata": {},
     "output_type": "display_data"
    }
   ],
   "source": [
    "sns.boxplot(x='Label', y='Stars', data=dfR)\n",
    "plt.title('Product Rating Boxplot Grouped by Label')\n",
    "plt.show()"
   ]
  },
  {
   "cell_type": "markdown",
   "id": "113d250d-6b14-4aec-bfd4-cf208a101f87",
   "metadata": {},
   "source": [
    "# Sentiment"
   ]
  },
  {
   "cell_type": "markdown",
   "id": "f09f7eb8-d399-4bcd-a5f3-87d64d2a7de8",
   "metadata": {},
   "source": [
    "### Creates Vader Sentiment Column"
   ]
  },
  {
   "cell_type": "code",
   "execution_count": 23,
   "id": "7efe7b41-ee1b-4142-b568-7d24f0b2f29b",
   "metadata": {},
   "outputs": [],
   "source": [
    "# Creates Column for Vader Sentiment\n",
    "analyzer = SentimentIntensityAnalyzer()\n",
    "dfR['Vader Sentiment'] = [analyzer.polarity_scores(x)['compound'] for x in dfR['Text']]"
   ]
  },
  {
   "cell_type": "markdown",
   "id": "314740be-a839-47c8-83fe-e14c1dd15887",
   "metadata": {},
   "source": [
    "### Table of Sentiment Averages"
   ]
  },
  {
   "cell_type": "code",
   "execution_count": 24,
   "id": "984f6b0c-cff7-4aeb-9d04-1f3407b5e282",
   "metadata": {},
   "outputs": [
    {
     "data": {
      "text/html": [
       "<div>\n",
       "<style scoped>\n",
       "    .dataframe tbody tr th:only-of-type {\n",
       "        vertical-align: middle;\n",
       "    }\n",
       "\n",
       "    .dataframe tbody tr th {\n",
       "        vertical-align: top;\n",
       "    }\n",
       "\n",
       "    .dataframe thead th {\n",
       "        text-align: right;\n",
       "    }\n",
       "</style>\n",
       "<table border=\"1\" class=\"dataframe\">\n",
       "  <thead>\n",
       "    <tr style=\"text-align: right;\">\n",
       "      <th>Label</th>\n",
       "      <th>Not Suspicious</th>\n",
       "      <th>Suspicious</th>\n",
       "    </tr>\n",
       "  </thead>\n",
       "  <tbody>\n",
       "    <tr>\n",
       "      <th>Vader Sentiment</th>\n",
       "      <td>0.552</td>\n",
       "      <td>0.595</td>\n",
       "    </tr>\n",
       "  </tbody>\n",
       "</table>\n",
       "</div>"
      ],
      "text/plain": [
       "Label            Not Suspicious  Suspicious\n",
       "Vader Sentiment           0.552       0.595"
      ]
     },
     "execution_count": 24,
     "metadata": {},
     "output_type": "execute_result"
    }
   ],
   "source": [
    "GdfRS = dfR.pivot_table(values='Vader Sentiment',columns=['Label'],aggfunc='mean').round(3)\n",
    "GdfRS"
   ]
  },
  {
   "cell_type": "code",
   "execution_count": 25,
   "id": "25bca820-d492-4428-af8e-ae4a250eea7a",
   "metadata": {},
   "outputs": [
    {
     "data": {
      "text/html": [
       "<div>\n",
       "<style scoped>\n",
       "    .dataframe tbody tr th:only-of-type {\n",
       "        vertical-align: middle;\n",
       "    }\n",
       "\n",
       "    .dataframe tbody tr th {\n",
       "        vertical-align: top;\n",
       "    }\n",
       "\n",
       "    .dataframe thead th {\n",
       "        text-align: right;\n",
       "    }\n",
       "</style>\n",
       "<table border=\"1\" class=\"dataframe\">\n",
       "  <thead>\n",
       "    <tr style=\"text-align: right;\">\n",
       "      <th></th>\n",
       "      <th>count</th>\n",
       "      <th>mean</th>\n",
       "      <th>std</th>\n",
       "      <th>min</th>\n",
       "      <th>25%</th>\n",
       "      <th>50%</th>\n",
       "      <th>75%</th>\n",
       "      <th>max</th>\n",
       "    </tr>\n",
       "    <tr>\n",
       "      <th>Label</th>\n",
       "      <th></th>\n",
       "      <th></th>\n",
       "      <th></th>\n",
       "      <th></th>\n",
       "      <th></th>\n",
       "      <th></th>\n",
       "      <th></th>\n",
       "      <th></th>\n",
       "    </tr>\n",
       "  </thead>\n",
       "  <tbody>\n",
       "    <tr>\n",
       "      <th>Not Suspicious</th>\n",
       "      <td>1525.0</td>\n",
       "      <td>0.551804</td>\n",
       "      <td>0.480677</td>\n",
       "      <td>-0.9681</td>\n",
       "      <td>0.3792</td>\n",
       "      <td>0.7579</td>\n",
       "      <td>0.90200</td>\n",
       "      <td>0.9935</td>\n",
       "    </tr>\n",
       "    <tr>\n",
       "      <th>Suspicious</th>\n",
       "      <td>486.0</td>\n",
       "      <td>0.595319</td>\n",
       "      <td>0.370308</td>\n",
       "      <td>-0.9658</td>\n",
       "      <td>0.4404</td>\n",
       "      <td>0.6935</td>\n",
       "      <td>0.87995</td>\n",
       "      <td>0.9949</td>\n",
       "    </tr>\n",
       "  </tbody>\n",
       "</table>\n",
       "</div>"
      ],
      "text/plain": [
       "                 count      mean       std     min     25%     50%      75%   \n",
       "Label                                                                         \n",
       "Not Suspicious  1525.0  0.551804  0.480677 -0.9681  0.3792  0.7579  0.90200  \\\n",
       "Suspicious       486.0  0.595319  0.370308 -0.9658  0.4404  0.6935  0.87995   \n",
       "\n",
       "                   max  \n",
       "Label                   \n",
       "Not Suspicious  0.9935  \n",
       "Suspicious      0.9949  "
      ]
     },
     "execution_count": 25,
     "metadata": {},
     "output_type": "execute_result"
    }
   ],
   "source": [
    "dfR.groupby('Label')['Vader Sentiment'].describe()"
   ]
  },
  {
   "cell_type": "markdown",
   "id": "ff0dc6e7-9ddf-4ccb-987d-9ccc76310b82",
   "metadata": {},
   "source": [
    "### Boxplots Grouped by Label"
   ]
  },
  {
   "cell_type": "code",
   "execution_count": 26,
   "id": "887fd93d-8c0c-46f2-8cbb-23a80a2b437e",
   "metadata": {},
   "outputs": [
    {
     "data": {
      "image/png": "[encoded data removed]",
      "text/plain": [
       "<Figure size 640x480 with 1 Axes>"
      ]
     },
     "metadata": {},
     "output_type": "display_data"
    }
   ],
   "source": [
    "sns.boxplot(x='Label', y='Vader Sentiment', data=dfR)\n",
    "plt.title('Sentiment Boxplot Grouped by Label')\n",
    "plt.show()"
   ]
  },
  {
   "cell_type": "code",
   "execution_count": null,
   "id": "a96cd1e9-7c06-4b93-8543-122b0c902d1b",
   "metadata": {},
   "outputs": [],
   "source": []
  }
 ],
 "metadata": {
  "kernelspec": {
   "display_name": "Python 3 (ipykernel)",
   "language": "python",
   "name": "python3"
  },
  "language_info": {
   "codemirror_mode": {
    "name": "ipython",
    "version": 3
   },
   "file_extension": ".py",
   "mimetype": "text/x-python",
   "name": "python",
   "nbconvert_exporter": "python",
   "pygments_lexer": "ipython3",
   "version": "3.9.16"
  }
 },
 "nbformat": 4,
 "nbformat_minor": 5
}
