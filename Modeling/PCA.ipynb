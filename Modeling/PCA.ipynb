{
 "cells": [
  {
   "cell_type": "markdown",
   "id": "d39ec70e-4250-4e7e-9a2e-95631fff7df9",
   "metadata": {},
   "source": [
    "# Principal Component Analysis"
   ]
  },
  {
   "cell_type": "code",
   "execution_count": 1,
   "id": "a275b6bd-3431-49af-9438-7fd14ade1a6d",
   "metadata": {},
   "outputs": [],
   "source": [
    "import numpy as np\n",
    "import pandas as pd\n",
    "from sklearn.feature_extraction.text import TfidfVectorizer\n",
    "from sklearn.decomposition import TruncatedSVD\n",
    "\n",
    "from sklearn.decomposition import PCA\n",
    "from sklearn.model_selection import train_test_split, cross_validate\n",
    "from sklearn.linear_model import LogisticRegressionCV\n",
    "from sklearn import metrics\n",
    "import matplotlib.pyplot as plt\n",
    "import seaborn as sns"
   ]
  },
  {
   "cell_type": "markdown",
   "id": "f76705f1-6d92-4242-a504-d846bcb06e65",
   "metadata": {},
   "source": [
    "### Load in the Labelled Dataset"
   ]
  },
  {
   "cell_type": "code",
   "execution_count": 2,
   "id": "416b0555-bfd6-46a0-bdff-3eacf40b2276",
   "metadata": {},
   "outputs": [
    {
     "data": {
      "text/html": [
       "<div>\n",
       "<style scoped>\n",
       "    .dataframe tbody tr th:only-of-type {\n",
       "        vertical-align: middle;\n",
       "    }\n",
       "\n",
       "    .dataframe tbody tr th {\n",
       "        vertical-align: top;\n",
       "    }\n",
       "\n",
       "    .dataframe thead th {\n",
       "        text-align: right;\n",
       "    }\n",
       "</style>\n",
       "<table border=\"1\" class=\"dataframe\">\n",
       "  <thead>\n",
       "    <tr style=\"text-align: right;\">\n",
       "      <th></th>\n",
       "      <th>Unnamed: 0.1</th>\n",
       "      <th>Unnamed: 0</th>\n",
       "      <th>Product</th>\n",
       "      <th>Reviewer Name</th>\n",
       "      <th>Rating</th>\n",
       "      <th>Text</th>\n",
       "      <th>Date</th>\n",
       "      <th>Country</th>\n",
       "      <th>ASIN</th>\n",
       "      <th>Language</th>\n",
       "      <th>Rules</th>\n",
       "      <th>Label</th>\n",
       "    </tr>\n",
       "  </thead>\n",
       "  <tbody>\n",
       "    <tr>\n",
       "      <th>0</th>\n",
       "      <td>0</td>\n",
       "      <td>0</td>\n",
       "      <td>Wireless Earbuds, yobola Bluetoth Earbuds, IPX...</td>\n",
       "      <td>Will of Burr</td>\n",
       "      <td>1.0 out of 5 stars</td>\n",
       "      <td>I am a real fan of headphones, probably becaus...</td>\n",
       "      <td>11/17/2022</td>\n",
       "      <td>United States 🇺🇸</td>\n",
       "      <td>B09LCVHCVX</td>\n",
       "      <td>en</td>\n",
       "      <td>3, 4, 5, 7 :</td>\n",
       "      <td>Suspicious</td>\n",
       "    </tr>\n",
       "    <tr>\n",
       "      <th>1</th>\n",
       "      <td>1</td>\n",
       "      <td>1</td>\n",
       "      <td>Wireless Earbuds, yobola Bluetoth Earbuds, IPX...</td>\n",
       "      <td>Allen Pak</td>\n",
       "      <td>5.0 out of 5 stars</td>\n",
       "      <td>To be honest.  I wasn't expecting much when I ...</td>\n",
       "      <td>10/25/2022</td>\n",
       "      <td>United States 🇺🇸</td>\n",
       "      <td>B09LCVHCVX</td>\n",
       "      <td>en</td>\n",
       "      <td>NaN</td>\n",
       "      <td>Not Suspicious</td>\n",
       "    </tr>\n",
       "    <tr>\n",
       "      <th>2</th>\n",
       "      <td>2</td>\n",
       "      <td>2</td>\n",
       "      <td>Wireless Earbuds, yobola Bluetoth Earbuds, IPX...</td>\n",
       "      <td>brenda</td>\n",
       "      <td>5.0 out of 5 stars</td>\n",
       "      <td>1st off they connected very easily which is al...</td>\n",
       "      <td>11/29/2022</td>\n",
       "      <td>United States 🇺🇸</td>\n",
       "      <td>B09LCVHCVX</td>\n",
       "      <td>en</td>\n",
       "      <td>3, 4, 6 :</td>\n",
       "      <td>Suspicious</td>\n",
       "    </tr>\n",
       "  </tbody>\n",
       "</table>\n",
       "</div>"
      ],
      "text/plain": [
       "   Unnamed: 0.1  Unnamed: 0  \\\n",
       "0             0           0   \n",
       "1             1           1   \n",
       "2             2           2   \n",
       "\n",
       "                                             Product Reviewer Name  \\\n",
       "0  Wireless Earbuds, yobola Bluetoth Earbuds, IPX...  Will of Burr   \n",
       "1  Wireless Earbuds, yobola Bluetoth Earbuds, IPX...     Allen Pak   \n",
       "2  Wireless Earbuds, yobola Bluetoth Earbuds, IPX...        brenda   \n",
       "\n",
       "               Rating                                               Text  \\\n",
       "0  1.0 out of 5 stars  I am a real fan of headphones, probably becaus...   \n",
       "1  5.0 out of 5 stars  To be honest.  I wasn't expecting much when I ...   \n",
       "2  5.0 out of 5 stars  1st off they connected very easily which is al...   \n",
       "\n",
       "         Date           Country        ASIN Language         Rules  \\\n",
       "0  11/17/2022  United States 🇺🇸  B09LCVHCVX       en  3, 4, 5, 7 :   \n",
       "1  10/25/2022  United States 🇺🇸  B09LCVHCVX       en           NaN   \n",
       "2  11/29/2022  United States 🇺🇸  B09LCVHCVX       en     3, 4, 6 :   \n",
       "\n",
       "            Label  \n",
       "0      Suspicious  \n",
       "1  Not Suspicious  \n",
       "2      Suspicious  "
      ]
     },
     "execution_count": 2,
     "metadata": {},
     "output_type": "execute_result"
    }
   ],
   "source": [
    "dfR = pd.read_csv(r'dfRLabelled.csv')\n",
    "dfR.head(3)"
   ]
  },
  {
   "cell_type": "markdown",
   "id": "d54554bd-e5de-4854-b9e0-321c1a364827",
   "metadata": {},
   "source": [
    "### Remove Reviews with No Text"
   ]
  },
  {
   "cell_type": "code",
   "execution_count": 3,
   "id": "a2952510-6151-423a-974b-83589690a72a",
   "metadata": {},
   "outputs": [
    {
     "data": {
      "text/plain": [
       "(2011, 12)"
      ]
     },
     "execution_count": 3,
     "metadata": {},
     "output_type": "execute_result"
    }
   ],
   "source": [
    "dfR = dfR[dfR['Text'].notna()]\n",
    "dfR.shape"
   ]
  },
  {
   "cell_type": "markdown",
   "id": "c2990819-d7d4-4a10-9e78-34300fc00d23",
   "metadata": {},
   "source": [
    "### Vectorize Reviews"
   ]
  },
  {
   "cell_type": "code",
   "execution_count": 4,
   "id": "4a21da35-cd8c-43c8-9f14-b7f90c2acedb",
   "metadata": {},
   "outputs": [],
   "source": [
    "Vectorizer = TfidfVectorizer(analyzer='word',stop_words='english', ngram_range=(1,1))\n",
    "X          = Vectorizer.fit_transform(dfR.Text)\n",
    "# No target y as latent semantic analysis is unsupervised.\n",
    "vocabulary = pd.Series(Vectorizer.get_feature_names_out())"
   ]
  },
  {
   "cell_type": "markdown",
   "id": "ce3dd6c2-3d7c-41bb-bf97-5f982693e82d",
   "metadata": {},
   "source": [
    "### PCA"
   ]
  },
  {
   "cell_type": "code",
   "execution_count": 5,
   "id": "8abdfeb7-1136-4858-875b-47d403c6ab18",
   "metadata": {},
   "outputs": [
    {
     "name": "stdout",
     "output_type": "stream",
     "text": [
      "[0.022, 0.04, 0.052, 0.063, 0.073, 0.083, 0.093, 0.102, 0.111, 0.119, 0.127, 0.134, 0.141, 0.148, 0.155, 0.161, 0.167, 0.173, 0.179, 0.185, 0.191, 0.197, 0.202, 0.207, 0.212, 0.217, 0.222, 0.227, 0.232]\n"
     ]
    }
   ],
   "source": [
    "num_components_list = list(range(1,30))\n",
    "str_num_components_list = [str(i) for i in num_components_list]\n",
    "component_variances = []\n",
    "for component in num_components_list:\n",
    "  pca = PCA(n_components = component)\n",
    "  Xc = pca.fit_transform(X.toarray())\n",
    "  component_variances.append(pca.explained_variance_ratio_.sum().round(3))\n",
    "print(component_variances)"
   ]
  },
  {
   "cell_type": "code",
   "execution_count": 6,
   "id": "6db6058e-70a5-42ab-a40b-0010478d3c06",
   "metadata": {},
   "outputs": [
    {
     "data": {
      "image/png": "[encoded data removed]",
      "text/plain": [
       "<Figure size 640x480 with 1 Axes>"
      ]
     },
     "metadata": {},
     "output_type": "display_data"
    }
   ],
   "source": [
    "import matplotlib.pyplot as plt\n",
    "plt.scatter(num_components_list, component_variances)\n",
    "plt.title('Number of Components vs Explained Variance Ratio')\n",
    "plt.xlabel('Number of Components')\n",
    "plt.ylabel('Explained Variance Ratio')\n",
    "plt.show()"
   ]
  },
  {
   "cell_type": "code",
   "execution_count": 7,
   "id": "abcc9f1a-ae87-4b84-a702-facf010c8280",
   "metadata": {},
   "outputs": [
    {
     "data": {
      "text/html": [
       "<div>\n",
       "<style scoped>\n",
       "    .dataframe tbody tr th:only-of-type {\n",
       "        vertical-align: middle;\n",
       "    }\n",
       "\n",
       "    .dataframe tbody tr th {\n",
       "        vertical-align: top;\n",
       "    }\n",
       "\n",
       "    .dataframe thead th {\n",
       "        text-align: right;\n",
       "    }\n",
       "</style>\n",
       "<table border=\"1\" class=\"dataframe\">\n",
       "  <thead>\n",
       "    <tr style=\"text-align: right;\">\n",
       "      <th></th>\n",
       "      <th>Text</th>\n",
       "      <th>Label</th>\n",
       "      <th>0</th>\n",
       "      <th>1</th>\n",
       "      <th>2</th>\n",
       "      <th>3</th>\n",
       "      <th>4</th>\n",
       "      <th>5</th>\n",
       "      <th>6</th>\n",
       "      <th>7</th>\n",
       "      <th>...</th>\n",
       "      <th>19</th>\n",
       "      <th>20</th>\n",
       "      <th>21</th>\n",
       "      <th>22</th>\n",
       "      <th>23</th>\n",
       "      <th>24</th>\n",
       "      <th>25</th>\n",
       "      <th>26</th>\n",
       "      <th>27</th>\n",
       "      <th>28</th>\n",
       "    </tr>\n",
       "  </thead>\n",
       "  <tbody>\n",
       "    <tr>\n",
       "      <th>0</th>\n",
       "      <td>I am a real fan of headphones, probably becaus...</td>\n",
       "      <td>Suspicious</td>\n",
       "      <td>-0.072694</td>\n",
       "      <td>-0.055773</td>\n",
       "      <td>0.029363</td>\n",
       "      <td>-0.054923</td>\n",
       "      <td>0.034858</td>\n",
       "      <td>-0.061904</td>\n",
       "      <td>0.053244</td>\n",
       "      <td>-0.042958</td>\n",
       "      <td>...</td>\n",
       "      <td>-0.039447</td>\n",
       "      <td>-0.132091</td>\n",
       "      <td>0.168514</td>\n",
       "      <td>-0.071237</td>\n",
       "      <td>-0.015994</td>\n",
       "      <td>-0.070916</td>\n",
       "      <td>-0.016922</td>\n",
       "      <td>0.081243</td>\n",
       "      <td>-0.013811</td>\n",
       "      <td>-0.026468</td>\n",
       "    </tr>\n",
       "    <tr>\n",
       "      <th>1</th>\n",
       "      <td>To be honest.  I wasn't expecting much when I ...</td>\n",
       "      <td>Not Suspicious</td>\n",
       "      <td>-0.004033</td>\n",
       "      <td>0.042802</td>\n",
       "      <td>-0.062149</td>\n",
       "      <td>-0.098399</td>\n",
       "      <td>-0.059504</td>\n",
       "      <td>-0.093163</td>\n",
       "      <td>0.020079</td>\n",
       "      <td>-0.031878</td>\n",
       "      <td>...</td>\n",
       "      <td>-0.067071</td>\n",
       "      <td>-0.109942</td>\n",
       "      <td>0.107574</td>\n",
       "      <td>0.008978</td>\n",
       "      <td>-0.024604</td>\n",
       "      <td>0.047530</td>\n",
       "      <td>0.064715</td>\n",
       "      <td>0.009067</td>\n",
       "      <td>-0.079866</td>\n",
       "      <td>0.088987</td>\n",
       "    </tr>\n",
       "    <tr>\n",
       "      <th>2</th>\n",
       "      <td>1st off they connected very easily which is al...</td>\n",
       "      <td>Suspicious</td>\n",
       "      <td>-0.090162</td>\n",
       "      <td>-0.032244</td>\n",
       "      <td>0.017683</td>\n",
       "      <td>-0.048981</td>\n",
       "      <td>0.043000</td>\n",
       "      <td>-0.032394</td>\n",
       "      <td>0.039444</td>\n",
       "      <td>-0.020723</td>\n",
       "      <td>...</td>\n",
       "      <td>-0.016879</td>\n",
       "      <td>-0.022256</td>\n",
       "      <td>-0.032814</td>\n",
       "      <td>0.045668</td>\n",
       "      <td>-0.044853</td>\n",
       "      <td>0.002324</td>\n",
       "      <td>0.094333</td>\n",
       "      <td>-0.026447</td>\n",
       "      <td>-0.085242</td>\n",
       "      <td>-0.025675</td>\n",
       "    </tr>\n",
       "  </tbody>\n",
       "</table>\n",
       "<p>3 rows × 31 columns</p>\n",
       "</div>"
      ],
      "text/plain": [
       "                                                Text           Label  \\\n",
       "0  I am a real fan of headphones, probably becaus...      Suspicious   \n",
       "1  To be honest.  I wasn't expecting much when I ...  Not Suspicious   \n",
       "2  1st off they connected very easily which is al...      Suspicious   \n",
       "\n",
       "          0         1         2         3         4         5         6  \\\n",
       "0 -0.072694 -0.055773  0.029363 -0.054923  0.034858 -0.061904  0.053244   \n",
       "1 -0.004033  0.042802 -0.062149 -0.098399 -0.059504 -0.093163  0.020079   \n",
       "2 -0.090162 -0.032244  0.017683 -0.048981  0.043000 -0.032394  0.039444   \n",
       "\n",
       "          7  ...        19        20        21        22        23        24  \\\n",
       "0 -0.042958  ... -0.039447 -0.132091  0.168514 -0.071237 -0.015994 -0.070916   \n",
       "1 -0.031878  ... -0.067071 -0.109942  0.107574  0.008978 -0.024604  0.047530   \n",
       "2 -0.020723  ... -0.016879 -0.022256 -0.032814  0.045668 -0.044853  0.002324   \n",
       "\n",
       "         25        26        27        28  \n",
       "0 -0.016922  0.081243 -0.013811 -0.026468  \n",
       "1  0.064715  0.009067 -0.079866  0.088987  \n",
       "2  0.094333 -0.026447 -0.085242 -0.025675  \n",
       "\n",
       "[3 rows x 31 columns]"
      ]
     },
     "execution_count": 7,
     "metadata": {},
     "output_type": "execute_result"
    }
   ],
   "source": [
    "Xc = pd.DataFrame(Xc)\n",
    "# Allows for concatenating successfully\n",
    "dfR = dfR.reset_index()\n",
    "dfR_reduced = pd.concat([dfR.Text, dfR.Label,Xc],axis=1)\n",
    "dfR_reduced.head(3)"
   ]
  },
  {
   "cell_type": "code",
   "execution_count": 8,
   "id": "0285b63d-b3e6-4c67-af42-b10d010272c2",
   "metadata": {},
   "outputs": [
    {
     "data": {
      "text/html": [
       "<div>\n",
       "<style scoped>\n",
       "    .dataframe tbody tr th:only-of-type {\n",
       "        vertical-align: middle;\n",
       "    }\n",
       "\n",
       "    .dataframe tbody tr th {\n",
       "        vertical-align: top;\n",
       "    }\n",
       "\n",
       "    .dataframe thead th {\n",
       "        text-align: right;\n",
       "    }\n",
       "</style>\n",
       "<table border=\"1\" class=\"dataframe\">\n",
       "  <thead>\n",
       "    <tr style=\"text-align: right;\">\n",
       "      <th></th>\n",
       "      <th>Text</th>\n",
       "      <th>Label</th>\n",
       "      <th>1</th>\n",
       "    </tr>\n",
       "  </thead>\n",
       "  <tbody>\n",
       "    <tr>\n",
       "      <th>1804</th>\n",
       "      <td>Great Battery life and sound quality at a grea...</td>\n",
       "      <td>Not Suspicious</td>\n",
       "      <td>0.73</td>\n",
       "    </tr>\n",
       "    <tr>\n",
       "      <th>889</th>\n",
       "      <td>great</td>\n",
       "      <td>Suspicious</td>\n",
       "      <td>0.71</td>\n",
       "    </tr>\n",
       "    <tr>\n",
       "      <th>550</th>\n",
       "      <td>Sound quality great, battery life great!!</td>\n",
       "      <td>Not Suspicious</td>\n",
       "      <td>0.70</td>\n",
       "    </tr>\n",
       "    <tr>\n",
       "      <th>165</th>\n",
       "      <td>Sound quality is great! Battery life is great!</td>\n",
       "      <td>Not Suspicious</td>\n",
       "      <td>0.70</td>\n",
       "    </tr>\n",
       "    <tr>\n",
       "      <th>1946</th>\n",
       "      <td>Great sound</td>\n",
       "      <td>Not Suspicious</td>\n",
       "      <td>0.67</td>\n",
       "    </tr>\n",
       "    <tr>\n",
       "      <th>583</th>\n",
       "      <td>Sound quality is great.</td>\n",
       "      <td>Not Suspicious</td>\n",
       "      <td>0.65</td>\n",
       "    </tr>\n",
       "    <tr>\n",
       "      <th>658</th>\n",
       "      <td>Very Good! :D</td>\n",
       "      <td>Suspicious</td>\n",
       "      <td>-0.48</td>\n",
       "    </tr>\n",
       "    <tr>\n",
       "      <th>1282</th>\n",
       "      <td>It’s good</td>\n",
       "      <td>Suspicious</td>\n",
       "      <td>-0.48</td>\n",
       "    </tr>\n",
       "    <tr>\n",
       "      <th>644</th>\n",
       "      <td>Good</td>\n",
       "      <td>Suspicious</td>\n",
       "      <td>-0.48</td>\n",
       "    </tr>\n",
       "    <tr>\n",
       "      <th>1421</th>\n",
       "      <td>Very good.</td>\n",
       "      <td>Suspicious</td>\n",
       "      <td>-0.48</td>\n",
       "    </tr>\n",
       "    <tr>\n",
       "      <th>1217</th>\n",
       "      <td>Good</td>\n",
       "      <td>Suspicious</td>\n",
       "      <td>-0.48</td>\n",
       "    </tr>\n",
       "  </tbody>\n",
       "</table>\n",
       "</div>"
      ],
      "text/plain": [
       "                                                   Text           Label     1\n",
       "1804  Great Battery life and sound quality at a grea...  Not Suspicious  0.73\n",
       "889                                               great      Suspicious  0.71\n",
       "550           Sound quality great, battery life great!!  Not Suspicious  0.70\n",
       "165      Sound quality is great! Battery life is great!  Not Suspicious  0.70\n",
       "1946                                        Great sound  Not Suspicious  0.67\n",
       "583                             Sound quality is great.  Not Suspicious  0.65\n",
       "658                                       Very Good! :D      Suspicious -0.48\n",
       "1282                                          It’s good      Suspicious -0.48\n",
       "644                                                Good      Suspicious -0.48\n",
       "1421                                         Very good.      Suspicious -0.48\n",
       "1217                                               Good      Suspicious -0.48"
      ]
     },
     "execution_count": 8,
     "metadata": {},
     "output_type": "execute_result"
    }
   ],
   "source": [
    "k = 1\n",
    "ix = [0,1,2,3,4,5,-5,-4,-3,-2,-1]\n",
    "dfR_reduced.sort_values(k,ascending=False).iloc[ix,:][['Text','Label',k]].round(2)"
   ]
  },
  {
   "cell_type": "code",
   "execution_count": 9,
   "id": "a24029c2-9c14-4542-a4f4-3c36c559a17e",
   "metadata": {},
   "outputs": [
    {
     "data": {
      "text/plain": [
       "great         0.77\n",
       "sound         0.23\n",
       "price         0.21\n",
       "quality       0.20\n",
       "battery       0.14\n",
       "life          0.14\n",
       "headphones   -0.03\n",
       "money        -0.03\n",
       "far          -0.03\n",
       "really       -0.08\n",
       "good         -0.42\n",
       "dtype: float64"
      ]
     },
     "execution_count": 9,
     "metadata": {},
     "output_type": "execute_result"
    }
   ],
   "source": [
    "# view components in terms of vocabulary\n",
    "components = pca.components_\n",
    "\n",
    "k = 1\n",
    "component = pd.Series(components[k,:],index=vocabulary)\n",
    "component.sort_values(ascending=False)[ix].round(2)"
   ]
  },
  {
   "cell_type": "markdown",
   "id": "34a8ab29-65ae-4670-a1fe-1d68d3e8987f",
   "metadata": {},
   "source": [
    "# Logistic Regression"
   ]
  },
  {
   "cell_type": "markdown",
   "id": "01a29da0-14d5-4970-b11e-2d13c1c4b3e9",
   "metadata": {},
   "source": [
    "### Train-Test Split"
   ]
  },
  {
   "cell_type": "code",
   "execution_count": 10,
   "id": "a1382471-80f1-4e4c-ac1f-e25fb528d22d",
   "metadata": {},
   "outputs": [],
   "source": [
    "X = dfR_reduced.drop(['Text', 'Label'], axis=1)\n",
    "y = dfR.Label\n",
    "X_train, X_test, y_train, y_test = train_test_split(X,y, train_size=0.7, stratify = y, random_state=0)"
   ]
  },
  {
   "cell_type": "markdown",
   "id": "e87df0e6-e2e5-4190-a3e5-2d264ca72e76",
   "metadata": {},
   "source": [
    "### Fit Model"
   ]
  },
  {
   "cell_type": "code",
   "execution_count": 11,
   "id": "19ca655c-9f88-4987-ad60-4e32bc26daa7",
   "metadata": {},
   "outputs": [],
   "source": [
    "# Look at regularization values\n",
    "logisticRegr = LogisticRegressionCV(penalty='l1', solver='liblinear')\n",
    "lrModel = logisticRegr.fit(X_train, y_train)"
   ]
  },
  {
   "cell_type": "markdown",
   "id": "031b5ee9-3d39-4807-9171-6b6e05114e7a",
   "metadata": {},
   "source": [
    "### Examine Coefficients"
   ]
  },
  {
   "cell_type": "code",
   "execution_count": 12,
   "id": "4e2849b4-299d-472f-bf50-58aab9a54c9b",
   "metadata": {},
   "outputs": [
    {
     "data": {
      "text/html": [
       "<div>\n",
       "<style scoped>\n",
       "    .dataframe tbody tr th:only-of-type {\n",
       "        vertical-align: middle;\n",
       "    }\n",
       "\n",
       "    .dataframe tbody tr th {\n",
       "        vertical-align: top;\n",
       "    }\n",
       "\n",
       "    .dataframe thead th {\n",
       "        text-align: right;\n",
       "    }\n",
       "</style>\n",
       "<table border=\"1\" class=\"dataframe\">\n",
       "  <thead>\n",
       "    <tr style=\"text-align: right;\">\n",
       "      <th></th>\n",
       "      <th>Coefficients</th>\n",
       "    </tr>\n",
       "  </thead>\n",
       "  <tbody>\n",
       "    <tr>\n",
       "      <th>2</th>\n",
       "      <td>4.805261</td>\n",
       "    </tr>\n",
       "    <tr>\n",
       "      <th>16</th>\n",
       "      <td>3.022355</td>\n",
       "    </tr>\n",
       "    <tr>\n",
       "      <th>5</th>\n",
       "      <td>2.547731</td>\n",
       "    </tr>\n",
       "    <tr>\n",
       "      <th>11</th>\n",
       "      <td>2.317580</td>\n",
       "    </tr>\n",
       "    <tr>\n",
       "      <th>7</th>\n",
       "      <td>2.134160</td>\n",
       "    </tr>\n",
       "    <tr>\n",
       "      <th>22</th>\n",
       "      <td>1.873474</td>\n",
       "    </tr>\n",
       "    <tr>\n",
       "      <th>3</th>\n",
       "      <td>1.589424</td>\n",
       "    </tr>\n",
       "    <tr>\n",
       "      <th>18</th>\n",
       "      <td>1.286459</td>\n",
       "    </tr>\n",
       "    <tr>\n",
       "      <th>0</th>\n",
       "      <td>1.176047</td>\n",
       "    </tr>\n",
       "    <tr>\n",
       "      <th>14</th>\n",
       "      <td>0.879851</td>\n",
       "    </tr>\n",
       "    <tr>\n",
       "      <th>10</th>\n",
       "      <td>0.504178</td>\n",
       "    </tr>\n",
       "    <tr>\n",
       "      <th>17</th>\n",
       "      <td>0.490336</td>\n",
       "    </tr>\n",
       "    <tr>\n",
       "      <th>20</th>\n",
       "      <td>0.330975</td>\n",
       "    </tr>\n",
       "    <tr>\n",
       "      <th>6</th>\n",
       "      <td>0.000000</td>\n",
       "    </tr>\n",
       "    <tr>\n",
       "      <th>23</th>\n",
       "      <td>0.000000</td>\n",
       "    </tr>\n",
       "    <tr>\n",
       "      <th>21</th>\n",
       "      <td>-0.222219</td>\n",
       "    </tr>\n",
       "    <tr>\n",
       "      <th>12</th>\n",
       "      <td>-0.910131</td>\n",
       "    </tr>\n",
       "    <tr>\n",
       "      <th>9</th>\n",
       "      <td>-0.953786</td>\n",
       "    </tr>\n",
       "    <tr>\n",
       "      <th>24</th>\n",
       "      <td>-1.139313</td>\n",
       "    </tr>\n",
       "    <tr>\n",
       "      <th>25</th>\n",
       "      <td>-1.260725</td>\n",
       "    </tr>\n",
       "    <tr>\n",
       "      <th>27</th>\n",
       "      <td>-1.325623</td>\n",
       "    </tr>\n",
       "    <tr>\n",
       "      <th>4</th>\n",
       "      <td>-1.475730</td>\n",
       "    </tr>\n",
       "    <tr>\n",
       "      <th>1</th>\n",
       "      <td>-1.611544</td>\n",
       "    </tr>\n",
       "    <tr>\n",
       "      <th>15</th>\n",
       "      <td>-1.705158</td>\n",
       "    </tr>\n",
       "    <tr>\n",
       "      <th>19</th>\n",
       "      <td>-1.728906</td>\n",
       "    </tr>\n",
       "    <tr>\n",
       "      <th>8</th>\n",
       "      <td>-1.837863</td>\n",
       "    </tr>\n",
       "    <tr>\n",
       "      <th>13</th>\n",
       "      <td>-2.234726</td>\n",
       "    </tr>\n",
       "    <tr>\n",
       "      <th>28</th>\n",
       "      <td>-3.537626</td>\n",
       "    </tr>\n",
       "    <tr>\n",
       "      <th>26</th>\n",
       "      <td>-6.531649</td>\n",
       "    </tr>\n",
       "  </tbody>\n",
       "</table>\n",
       "</div>"
      ],
      "text/plain": [
       "    Coefficients\n",
       "2       4.805261\n",
       "16      3.022355\n",
       "5       2.547731\n",
       "11      2.317580\n",
       "7       2.134160\n",
       "22      1.873474\n",
       "3       1.589424\n",
       "18      1.286459\n",
       "0       1.176047\n",
       "14      0.879851\n",
       "10      0.504178\n",
       "17      0.490336\n",
       "20      0.330975\n",
       "6       0.000000\n",
       "23      0.000000\n",
       "21     -0.222219\n",
       "12     -0.910131\n",
       "9      -0.953786\n",
       "24     -1.139313\n",
       "25     -1.260725\n",
       "27     -1.325623\n",
       "4      -1.475730\n",
       "1      -1.611544\n",
       "15     -1.705158\n",
       "19     -1.728906\n",
       "8      -1.837863\n",
       "13     -2.234726\n",
       "28     -3.537626\n",
       "26     -6.531649"
      ]
     },
     "execution_count": 12,
     "metadata": {},
     "output_type": "execute_result"
    }
   ],
   "source": [
    "# Look at words associated with top components \n",
    "model_coefs = pd.Series(lrModel.coef_.ravel(), index=X_train.columns.tolist())\n",
    "model_coefsDF = pd.DataFrame(model_coefs, columns = ['Coefficients'])\n",
    "model_coefsDF.sort_values(by='Coefficients', ascending=False)"
   ]
  },
  {
   "cell_type": "markdown",
   "id": "b60822d3-83a3-4c04-ba3f-f6588be2fa71",
   "metadata": {},
   "source": [
    "Components 2 and 26 have the highest magnitude coefficients, indicating they play a strong role in the prediction process. "
   ]
  },
  {
   "cell_type": "markdown",
   "id": "b7afac1a-01c9-4563-b28c-7ef6ee5ab555",
   "metadata": {},
   "source": [
    "### Examine Test Accuracy"
   ]
  },
  {
   "cell_type": "code",
   "execution_count": 13,
   "id": "c04daf6f-b97c-41f8-a84c-5dfbceb8070d",
   "metadata": {},
   "outputs": [],
   "source": [
    "predictions = logisticRegr.predict(X_test)"
   ]
  },
  {
   "cell_type": "code",
   "execution_count": 14,
   "id": "ce65115b-be95-4340-8563-532d78c38516",
   "metadata": {},
   "outputs": [
    {
     "data": {
      "image/png": "[encoded data removed]",
      "text/plain": [
       "<Figure size 640x480 with 2 Axes>"
      ]
     },
     "metadata": {},
     "output_type": "display_data"
    }
   ],
   "source": [
    "score = logisticRegr.score(X_test, y_test)\n",
    "cm = metrics.confusion_matrix(y_test, predictions, normalize='all')\n",
    "#plt.figure(figsize=(9,9))\n",
    "ax= plt.subplot()\n",
    "sns.heatmap(cm, annot=True, fmt=\".3f\", linewidths=.5, square = True, cmap = 'Blues_r', ax=ax);\n",
    "plt.ylabel('True label');\n",
    "plt.xlabel('Predicted label');\n",
    "all_sample_title = 'Accuracy Score: {0}'.format(score)\n",
    "plt.title(all_sample_title, size = 15);\n",
    "ax.xaxis.set_ticklabels(['Not Suspicious', 'Suspicious']); ax.yaxis.set_ticklabels(['Not Suspicious', 'Suspicious']);"
   ]
  },
  {
   "cell_type": "code",
   "execution_count": null,
   "id": "78243e25-4580-41e3-aba7-9206ef17ffe3",
   "metadata": {},
   "outputs": [],
   "source": []
  }
 ],
 "metadata": {
  "kernelspec": {
   "display_name": "Python 3 (ipykernel)",
   "language": "python",
   "name": "python3"
  },
  "language_info": {
   "codemirror_mode": {
    "name": "ipython",
    "version": 3
   },
   "file_extension": ".py",
   "mimetype": "text/x-python",
   "name": "python",
   "nbconvert_exporter": "python",
   "pygments_lexer": "ipython3",
   "version": "3.9.16"
  }
 },
 "nbformat": 4,
 "nbformat_minor": 5
}
