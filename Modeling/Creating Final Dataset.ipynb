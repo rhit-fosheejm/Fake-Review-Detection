{
 "cells": [
  {
   "cell_type": "code",
   "execution_count": 13,
   "id": "cfadc6ca-aef8-440d-b7dd-16858d9bc4b7",
   "metadata": {},
   "outputs": [],
   "source": [
    "import numpy as np\n",
    "import pandas as pd\n",
    "\n",
    "import nltk\n",
    "from nltk.sentiment.vader import SentimentIntensityAnalyzer"
   ]
  },
  {
   "cell_type": "code",
   "execution_count": 14,
   "id": "9ac76559-8bc8-4d7d-82ea-1d63a4df7711",
   "metadata": {},
   "outputs": [
    {
     "data": {
      "text/html": [
       "<div>\n",
       "<style scoped>\n",
       "    .dataframe tbody tr th:only-of-type {\n",
       "        vertical-align: middle;\n",
       "    }\n",
       "\n",
       "    .dataframe tbody tr th {\n",
       "        vertical-align: top;\n",
       "    }\n",
       "\n",
       "    .dataframe thead th {\n",
       "        text-align: right;\n",
       "    }\n",
       "</style>\n",
       "<table border=\"1\" class=\"dataframe\">\n",
       "  <thead>\n",
       "    <tr style=\"text-align: right;\">\n",
       "      <th></th>\n",
       "      <th>Unnamed: 0.1</th>\n",
       "      <th>Unnamed: 0</th>\n",
       "      <th>Product</th>\n",
       "      <th>Reviewer Name</th>\n",
       "      <th>Rating</th>\n",
       "      <th>Text</th>\n",
       "      <th>Date</th>\n",
       "      <th>Country</th>\n",
       "      <th>ASIN</th>\n",
       "      <th>Language</th>\n",
       "      <th>Rules</th>\n",
       "      <th>Label</th>\n",
       "    </tr>\n",
       "  </thead>\n",
       "  <tbody>\n",
       "    <tr>\n",
       "      <th>0</th>\n",
       "      <td>0</td>\n",
       "      <td>0</td>\n",
       "      <td>Wireless Earbuds, yobola Bluetoth Earbuds, IPX...</td>\n",
       "      <td>Will of Burr</td>\n",
       "      <td>1.0 out of 5 stars</td>\n",
       "      <td>I am a real fan of headphones, probably becaus...</td>\n",
       "      <td>11/17/2022</td>\n",
       "      <td>United States 🇺🇸</td>\n",
       "      <td>B09LCVHCVX</td>\n",
       "      <td>en</td>\n",
       "      <td>3, 4, 5, 7 :</td>\n",
       "      <td>Suspicious</td>\n",
       "    </tr>\n",
       "    <tr>\n",
       "      <th>1</th>\n",
       "      <td>1</td>\n",
       "      <td>1</td>\n",
       "      <td>Wireless Earbuds, yobola Bluetoth Earbuds, IPX...</td>\n",
       "      <td>Allen Pak</td>\n",
       "      <td>5.0 out of 5 stars</td>\n",
       "      <td>To be honest.  I wasn't expecting much when I ...</td>\n",
       "      <td>10/25/2022</td>\n",
       "      <td>United States 🇺🇸</td>\n",
       "      <td>B09LCVHCVX</td>\n",
       "      <td>en</td>\n",
       "      <td>NaN</td>\n",
       "      <td>Not Suspicious</td>\n",
       "    </tr>\n",
       "    <tr>\n",
       "      <th>2</th>\n",
       "      <td>2</td>\n",
       "      <td>2</td>\n",
       "      <td>Wireless Earbuds, yobola Bluetoth Earbuds, IPX...</td>\n",
       "      <td>brenda</td>\n",
       "      <td>5.0 out of 5 stars</td>\n",
       "      <td>1st off they connected very easily which is al...</td>\n",
       "      <td>11/29/2022</td>\n",
       "      <td>United States 🇺🇸</td>\n",
       "      <td>B09LCVHCVX</td>\n",
       "      <td>en</td>\n",
       "      <td>3, 4, 6 :</td>\n",
       "      <td>Suspicious</td>\n",
       "    </tr>\n",
       "  </tbody>\n",
       "</table>\n",
       "</div>"
      ],
      "text/plain": [
       "   Unnamed: 0.1  Unnamed: 0   \n",
       "0             0           0  \\\n",
       "1             1           1   \n",
       "2             2           2   \n",
       "\n",
       "                                             Product Reviewer Name   \n",
       "0  Wireless Earbuds, yobola Bluetoth Earbuds, IPX...  Will of Burr  \\\n",
       "1  Wireless Earbuds, yobola Bluetoth Earbuds, IPX...     Allen Pak   \n",
       "2  Wireless Earbuds, yobola Bluetoth Earbuds, IPX...        brenda   \n",
       "\n",
       "               Rating                                               Text   \n",
       "0  1.0 out of 5 stars  I am a real fan of headphones, probably becaus...  \\\n",
       "1  5.0 out of 5 stars  To be honest.  I wasn't expecting much when I ...   \n",
       "2  5.0 out of 5 stars  1st off they connected very easily which is al...   \n",
       "\n",
       "         Date           Country        ASIN Language         Rules   \n",
       "0  11/17/2022  United States 🇺🇸  B09LCVHCVX       en  3, 4, 5, 7 :  \\\n",
       "1  10/25/2022  United States 🇺🇸  B09LCVHCVX       en           NaN   \n",
       "2  11/29/2022  United States 🇺🇸  B09LCVHCVX       en     3, 4, 6 :   \n",
       "\n",
       "            Label  \n",
       "0      Suspicious  \n",
       "1  Not Suspicious  \n",
       "2      Suspicious  "
      ]
     },
     "execution_count": 14,
     "metadata": {},
     "output_type": "execute_result"
    }
   ],
   "source": [
    "dfR = pd.read_csv(r'dfRLabelled.csv')\n",
    "dfR.head(3)"
   ]
  },
  {
   "cell_type": "markdown",
   "id": "93836f23-a96a-4ed9-8640-c7f5cf3a7525",
   "metadata": {},
   "source": [
    "### Remove Reviews with No Text"
   ]
  },
  {
   "cell_type": "code",
   "execution_count": 15,
   "id": "f657d0c4-520a-45bb-bf41-c8001eb02b46",
   "metadata": {},
   "outputs": [
    {
     "data": {
      "text/plain": [
       "(2011, 12)"
      ]
     },
     "execution_count": 15,
     "metadata": {},
     "output_type": "execute_result"
    }
   ],
   "source": [
    "dfR = dfR[dfR['Text'].notna()]\n",
    "dfR.shape"
   ]
  },
  {
   "cell_type": "markdown",
   "id": "e084efd3-4ca1-4d05-b064-c4961807af00",
   "metadata": {},
   "source": [
    "### Remove Unnecessary Column"
   ]
  },
  {
   "cell_type": "code",
   "execution_count": 16,
   "id": "8ebab5b5-8398-4118-92a3-b0fabf7102d5",
   "metadata": {},
   "outputs": [
    {
     "data": {
      "text/plain": [
       "Index(['Unnamed: 0.1', 'Unnamed: 0', 'Product', 'Reviewer Name', 'Rating',\n",
       "       'Text', 'Date', 'Country', 'ASIN', 'Language', 'Rules', 'Label'],\n",
       "      dtype='object')"
      ]
     },
     "execution_count": 16,
     "metadata": {},
     "output_type": "execute_result"
    }
   ],
   "source": [
    "dfR.columns"
   ]
  },
  {
   "cell_type": "code",
   "execution_count": 17,
   "id": "1fca475a-fec6-4310-8587-80b9fef1a313",
   "metadata": {},
   "outputs": [
    {
     "data": {
      "text/plain": [
       "(2011, 10)"
      ]
     },
     "execution_count": 17,
     "metadata": {},
     "output_type": "execute_result"
    }
   ],
   "source": [
    "dfR = dfR.drop(['Unnamed: 0.1', 'Unnamed: 0'], axis=1)\n",
    "dfR.shape"
   ]
  },
  {
   "cell_type": "markdown",
   "id": "bdc31623-2a4b-4e34-acda-7337417db0f2",
   "metadata": {},
   "source": [
    "### Add Product Star Feature"
   ]
  },
  {
   "cell_type": "code",
   "execution_count": 18,
   "id": "483a4f1e-ff9b-4f97-9d05-733668e97f7a",
   "metadata": {},
   "outputs": [],
   "source": [
    "# Creates Column Stars w/ Rating from 1-5 (-1,1)\n",
    "dfR['Stars'] = dfR['Rating'].str[:1]\n",
    "dfR.Stars = dfR.Stars.astype(int)"
   ]
  },
  {
   "cell_type": "markdown",
   "id": "a7105ba4-efba-40d7-99ae-91b36c7588a5",
   "metadata": {},
   "source": [
    "### Add Sentiment Feature"
   ]
  },
  {
   "cell_type": "code",
   "execution_count": 19,
   "id": "0653d87d-adda-4e3e-803c-9679672dc4ad",
   "metadata": {},
   "outputs": [],
   "source": [
    "# Creates Column for Vader Sentiment\n",
    "analyzer = SentimentIntensityAnalyzer()\n",
    "dfR['Vader Sentiment'] = [analyzer.polarity_scores(x)['compound'] for x in dfR['Text']]"
   ]
  },
  {
   "cell_type": "code",
   "execution_count": 20,
   "id": "e3c74d16-8a70-42fe-976c-9a029583d205",
   "metadata": {},
   "outputs": [
    {
     "data": {
      "text/html": [
       "<div>\n",
       "<style scoped>\n",
       "    .dataframe tbody tr th:only-of-type {\n",
       "        vertical-align: middle;\n",
       "    }\n",
       "\n",
       "    .dataframe tbody tr th {\n",
       "        vertical-align: top;\n",
       "    }\n",
       "\n",
       "    .dataframe thead th {\n",
       "        text-align: right;\n",
       "    }\n",
       "</style>\n",
       "<table border=\"1\" class=\"dataframe\">\n",
       "  <thead>\n",
       "    <tr style=\"text-align: right;\">\n",
       "      <th></th>\n",
       "      <th>Product</th>\n",
       "      <th>Reviewer Name</th>\n",
       "      <th>Rating</th>\n",
       "      <th>Text</th>\n",
       "      <th>Date</th>\n",
       "      <th>Country</th>\n",
       "      <th>ASIN</th>\n",
       "      <th>Language</th>\n",
       "      <th>Rules</th>\n",
       "      <th>Label</th>\n",
       "      <th>Stars</th>\n",
       "      <th>Vader Sentiment</th>\n",
       "    </tr>\n",
       "  </thead>\n",
       "  <tbody>\n",
       "    <tr>\n",
       "      <th>0</th>\n",
       "      <td>Wireless Earbuds, yobola Bluetoth Earbuds, IPX...</td>\n",
       "      <td>Will of Burr</td>\n",
       "      <td>1.0 out of 5 stars</td>\n",
       "      <td>I am a real fan of headphones, probably becaus...</td>\n",
       "      <td>11/17/2022</td>\n",
       "      <td>United States 🇺🇸</td>\n",
       "      <td>B09LCVHCVX</td>\n",
       "      <td>en</td>\n",
       "      <td>3, 4, 5, 7 :</td>\n",
       "      <td>Suspicious</td>\n",
       "      <td>1</td>\n",
       "      <td>0.9930</td>\n",
       "    </tr>\n",
       "    <tr>\n",
       "      <th>1</th>\n",
       "      <td>Wireless Earbuds, yobola Bluetoth Earbuds, IPX...</td>\n",
       "      <td>Allen Pak</td>\n",
       "      <td>5.0 out of 5 stars</td>\n",
       "      <td>To be honest.  I wasn't expecting much when I ...</td>\n",
       "      <td>10/25/2022</td>\n",
       "      <td>United States 🇺🇸</td>\n",
       "      <td>B09LCVHCVX</td>\n",
       "      <td>en</td>\n",
       "      <td>NaN</td>\n",
       "      <td>Not Suspicious</td>\n",
       "      <td>5</td>\n",
       "      <td>0.9668</td>\n",
       "    </tr>\n",
       "    <tr>\n",
       "      <th>2</th>\n",
       "      <td>Wireless Earbuds, yobola Bluetoth Earbuds, IPX...</td>\n",
       "      <td>brenda</td>\n",
       "      <td>5.0 out of 5 stars</td>\n",
       "      <td>1st off they connected very easily which is al...</td>\n",
       "      <td>11/29/2022</td>\n",
       "      <td>United States 🇺🇸</td>\n",
       "      <td>B09LCVHCVX</td>\n",
       "      <td>en</td>\n",
       "      <td>3, 4, 6 :</td>\n",
       "      <td>Suspicious</td>\n",
       "      <td>5</td>\n",
       "      <td>0.9894</td>\n",
       "    </tr>\n",
       "  </tbody>\n",
       "</table>\n",
       "</div>"
      ],
      "text/plain": [
       "                                             Product Reviewer Name   \n",
       "0  Wireless Earbuds, yobola Bluetoth Earbuds, IPX...  Will of Burr  \\\n",
       "1  Wireless Earbuds, yobola Bluetoth Earbuds, IPX...     Allen Pak   \n",
       "2  Wireless Earbuds, yobola Bluetoth Earbuds, IPX...        brenda   \n",
       "\n",
       "               Rating                                               Text   \n",
       "0  1.0 out of 5 stars  I am a real fan of headphones, probably becaus...  \\\n",
       "1  5.0 out of 5 stars  To be honest.  I wasn't expecting much when I ...   \n",
       "2  5.0 out of 5 stars  1st off they connected very easily which is al...   \n",
       "\n",
       "         Date           Country        ASIN Language         Rules   \n",
       "0  11/17/2022  United States 🇺🇸  B09LCVHCVX       en  3, 4, 5, 7 :  \\\n",
       "1  10/25/2022  United States 🇺🇸  B09LCVHCVX       en           NaN   \n",
       "2  11/29/2022  United States 🇺🇸  B09LCVHCVX       en     3, 4, 6 :   \n",
       "\n",
       "            Label  Stars  Vader Sentiment  \n",
       "0      Suspicious      1           0.9930  \n",
       "1  Not Suspicious      5           0.9668  \n",
       "2      Suspicious      5           0.9894  "
      ]
     },
     "execution_count": 20,
     "metadata": {},
     "output_type": "execute_result"
    }
   ],
   "source": [
    "dfR.head(3)"
   ]
  },
  {
   "cell_type": "code",
   "execution_count": 21,
   "id": "fc5f5425-9f74-43f0-995b-51952958ba99",
   "metadata": {},
   "outputs": [],
   "source": [
    "dfR.to_csv(r\"Fake Review Detection Dataset.csv\")"
   ]
  },
  {
   "cell_type": "code",
   "execution_count": null,
   "id": "b71b0aa1-4311-458e-887b-852948ec72a9",
   "metadata": {},
   "outputs": [],
   "source": []
  }
 ],
 "metadata": {
  "kernelspec": {
   "display_name": "Python 3 (ipykernel)",
   "language": "python",
   "name": "python3"
  },
  "language_info": {
   "codemirror_mode": {
    "name": "ipython",
    "version": 3
   },
   "file_extension": ".py",
   "mimetype": "text/x-python",
   "name": "python",
   "nbconvert_exporter": "python",
   "pygments_lexer": "ipython3",
   "version": "3.9.16"
  }
 },
 "nbformat": 4,
 "nbformat_minor": 5
}
