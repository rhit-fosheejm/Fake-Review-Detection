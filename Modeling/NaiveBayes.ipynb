{
 "cells": [
  {
   "cell_type": "code",
   "execution_count": 1,
   "id": "b3f2e12f-3c35-47d7-94ac-69e6092cb6c6",
   "metadata": {},
   "outputs": [],
   "source": [
    "import pandas as pd\n",
    "import numpy as np\n",
    "from sklearn.feature_extraction.text import CountVectorizer, TfidfVectorizer\n",
    "#from sklearn.tree import DecisionTreeClassifier\n",
    "from sklearn.naive_bayes import MultinomialNB\n",
    "from sklearn.model_selection import GridSearchCV\n",
    "import nltk\n",
    "from nltk.sentiment.vader import SentimentIntensityAnalyzer\n",
    "from nltk.corpus import stopwords\n",
    "from nltk import word_tokenize\n",
    "from sklearn.model_selection import train_test_split, cross_validate"
   ]
  },
  {
   "cell_type": "markdown",
   "id": "49b31869-d284-4b82-a65e-1a880fae8f84",
   "metadata": {},
   "source": [
    "### Load in the Labelled Dataset"
   ]
  },
  {
   "cell_type": "code",
   "execution_count": 2,
   "id": "22ee2869-cd38-49d7-86a6-8f497ef892a6",
   "metadata": {},
   "outputs": [
    {
     "data": {
      "text/html": [
       "<div>\n",
       "<style scoped>\n",
       "    .dataframe tbody tr th:only-of-type {\n",
       "        vertical-align: middle;\n",
       "    }\n",
       "\n",
       "    .dataframe tbody tr th {\n",
       "        vertical-align: top;\n",
       "    }\n",
       "\n",
       "    .dataframe thead th {\n",
       "        text-align: right;\n",
       "    }\n",
       "</style>\n",
       "<table border=\"1\" class=\"dataframe\">\n",
       "  <thead>\n",
       "    <tr style=\"text-align: right;\">\n",
       "      <th></th>\n",
       "      <th>Unnamed: 0.1</th>\n",
       "      <th>Unnamed: 0</th>\n",
       "      <th>Product</th>\n",
       "      <th>Reviewer Name</th>\n",
       "      <th>Rating</th>\n",
       "      <th>Text</th>\n",
       "      <th>Date</th>\n",
       "      <th>Country</th>\n",
       "      <th>ASIN</th>\n",
       "      <th>Language</th>\n",
       "      <th>Rules</th>\n",
       "      <th>Label</th>\n",
       "    </tr>\n",
       "  </thead>\n",
       "  <tbody>\n",
       "    <tr>\n",
       "      <th>0</th>\n",
       "      <td>0</td>\n",
       "      <td>0</td>\n",
       "      <td>Wireless Earbuds, yobola Bluetoth Earbuds, IPX...</td>\n",
       "      <td>Will of Burr</td>\n",
       "      <td>1.0 out of 5 stars</td>\n",
       "      <td>I am a real fan of headphones, probably becaus...</td>\n",
       "      <td>11/17/2022</td>\n",
       "      <td>United States 🇺🇸</td>\n",
       "      <td>B09LCVHCVX</td>\n",
       "      <td>en</td>\n",
       "      <td>3, 4, 5, 7 :</td>\n",
       "      <td>Suspicious</td>\n",
       "    </tr>\n",
       "    <tr>\n",
       "      <th>1</th>\n",
       "      <td>1</td>\n",
       "      <td>1</td>\n",
       "      <td>Wireless Earbuds, yobola Bluetoth Earbuds, IPX...</td>\n",
       "      <td>Allen Pak</td>\n",
       "      <td>5.0 out of 5 stars</td>\n",
       "      <td>To be honest.  I wasn't expecting much when I ...</td>\n",
       "      <td>10/25/2022</td>\n",
       "      <td>United States 🇺🇸</td>\n",
       "      <td>B09LCVHCVX</td>\n",
       "      <td>en</td>\n",
       "      <td>NaN</td>\n",
       "      <td>Not Suspicious</td>\n",
       "    </tr>\n",
       "    <tr>\n",
       "      <th>2</th>\n",
       "      <td>2</td>\n",
       "      <td>2</td>\n",
       "      <td>Wireless Earbuds, yobola Bluetoth Earbuds, IPX...</td>\n",
       "      <td>brenda</td>\n",
       "      <td>5.0 out of 5 stars</td>\n",
       "      <td>1st off they connected very easily which is al...</td>\n",
       "      <td>11/29/2022</td>\n",
       "      <td>United States 🇺🇸</td>\n",
       "      <td>B09LCVHCVX</td>\n",
       "      <td>en</td>\n",
       "      <td>3, 4, 6 :</td>\n",
       "      <td>Suspicious</td>\n",
       "    </tr>\n",
       "  </tbody>\n",
       "</table>\n",
       "</div>"
      ],
      "text/plain": [
       "   Unnamed: 0.1  Unnamed: 0   \n",
       "0             0           0  \\\n",
       "1             1           1   \n",
       "2             2           2   \n",
       "\n",
       "                                             Product Reviewer Name   \n",
       "0  Wireless Earbuds, yobola Bluetoth Earbuds, IPX...  Will of Burr  \\\n",
       "1  Wireless Earbuds, yobola Bluetoth Earbuds, IPX...     Allen Pak   \n",
       "2  Wireless Earbuds, yobola Bluetoth Earbuds, IPX...        brenda   \n",
       "\n",
       "               Rating                                               Text   \n",
       "0  1.0 out of 5 stars  I am a real fan of headphones, probably becaus...  \\\n",
       "1  5.0 out of 5 stars  To be honest.  I wasn't expecting much when I ...   \n",
       "2  5.0 out of 5 stars  1st off they connected very easily which is al...   \n",
       "\n",
       "         Date           Country        ASIN Language         Rules   \n",
       "0  11/17/2022  United States 🇺🇸  B09LCVHCVX       en  3, 4, 5, 7 :  \\\n",
       "1  10/25/2022  United States 🇺🇸  B09LCVHCVX       en           NaN   \n",
       "2  11/29/2022  United States 🇺🇸  B09LCVHCVX       en     3, 4, 6 :   \n",
       "\n",
       "            Label  \n",
       "0      Suspicious  \n",
       "1  Not Suspicious  \n",
       "2      Suspicious  "
      ]
     },
     "execution_count": 2,
     "metadata": {},
     "output_type": "execute_result"
    }
   ],
   "source": [
    "dfR = pd.read_csv(r'dfRLabelled.csv')\n",
    "dfR.head(3)"
   ]
  },
  {
   "cell_type": "code",
   "execution_count": 3,
   "id": "973ffbfb-f766-484d-b764-185a8b125489",
   "metadata": {},
   "outputs": [
    {
     "data": {
      "text/plain": [
       "(2055, 12)"
      ]
     },
     "execution_count": 3,
     "metadata": {},
     "output_type": "execute_result"
    }
   ],
   "source": [
    "dfR.shape"
   ]
  },
  {
   "cell_type": "markdown",
   "id": "4794d0c1-670c-4564-bcf3-b22755a1d0ab",
   "metadata": {},
   "source": [
    "### Remove Reviews with No Text"
   ]
  },
  {
   "cell_type": "code",
   "execution_count": 4,
   "id": "1e86c766-df3b-4db7-a3ba-85e4f7ccedcc",
   "metadata": {},
   "outputs": [
    {
     "data": {
      "text/plain": [
       "(2011, 12)"
      ]
     },
     "execution_count": 4,
     "metadata": {},
     "output_type": "execute_result"
    }
   ],
   "source": [
    "dfR = dfR[dfR['Text'].notna()]\n",
    "dfR.shape"
   ]
  },
  {
   "cell_type": "markdown",
   "id": "acdd458c-9d80-4af4-a6b9-1c798515075f",
   "metadata": {},
   "source": [
    "### Determine Baseline Accuracy"
   ]
  },
  {
   "cell_type": "code",
   "execution_count": 5,
   "id": "0b10442b-e19e-4e0d-9bc0-4451e63172f2",
   "metadata": {},
   "outputs": [
    {
     "data": {
      "text/plain": [
       "Label\n",
       "Not Suspicious    1525\n",
       "Suspicious         486\n",
       "Name: count, dtype: int64"
      ]
     },
     "execution_count": 5,
     "metadata": {},
     "output_type": "execute_result"
    }
   ],
   "source": [
    "dfR.Label.value_counts()"
   ]
  },
  {
   "cell_type": "code",
   "execution_count": 6,
   "id": "c6652f7f-277f-4e91-a17a-220ac155981e",
   "metadata": {},
   "outputs": [
    {
     "data": {
      "text/plain": [
       "0.7583291894579811"
      ]
     },
     "execution_count": 6,
     "metadata": {},
     "output_type": "execute_result"
    }
   ],
   "source": [
    "acc_baseline = 1525/(1525+486)\n",
    "acc_baseline"
   ]
  },
  {
   "cell_type": "markdown",
   "id": "390fead1-35a0-4fba-89ce-1e840f2f6a83",
   "metadata": {},
   "source": [
    "### tf-idf"
   ]
  },
  {
   "cell_type": "code",
   "execution_count": 7,
   "id": "f057d2c1-0888-4a3c-8ebc-a14c31bec56f",
   "metadata": {},
   "outputs": [],
   "source": [
    "# construct tf-idf vectors\n",
    "Vectorizer = TfidfVectorizer(analyzer='word',stop_words='english', ngram_range=(1,1))\n",
    "tfidf      = Vectorizer.fit_transform(dfR.Text)\n",
    "vocabulary = Vectorizer.get_feature_names_out()"
   ]
  },
  {
   "cell_type": "code",
   "execution_count": 8,
   "id": "7b6fe779-d1e8-4dd0-aa38-147bcb3d39a6",
   "metadata": {},
   "outputs": [
    {
     "data": {
      "text/plain": [
       "(2011, 3192)"
      ]
     },
     "execution_count": 8,
     "metadata": {},
     "output_type": "execute_result"
    }
   ],
   "source": [
    "tfidf.shape"
   ]
  },
  {
   "cell_type": "code",
   "execution_count": 9,
   "id": "a2e50fc5-0386-4a29-8c6e-2bec607b37da",
   "metadata": {},
   "outputs": [
    {
     "name": "stdout",
     "output_type": "stream",
     "text": [
      "(2011, 3192)\n"
     ]
    },
    {
     "data": {
      "text/html": [
       "<div>\n",
       "<style scoped>\n",
       "    .dataframe tbody tr th:only-of-type {\n",
       "        vertical-align: middle;\n",
       "    }\n",
       "\n",
       "    .dataframe tbody tr th {\n",
       "        vertical-align: top;\n",
       "    }\n",
       "\n",
       "    .dataframe thead th {\n",
       "        text-align: right;\n",
       "    }\n",
       "</style>\n",
       "<table border=\"1\" class=\"dataframe\">\n",
       "  <thead>\n",
       "    <tr style=\"text-align: right;\">\n",
       "      <th></th>\n",
       "      <th>00</th>\n",
       "      <th>10</th>\n",
       "      <th>100</th>\n",
       "      <th>10x</th>\n",
       "      <th>11</th>\n",
       "      <th>12</th>\n",
       "      <th>120</th>\n",
       "      <th>13</th>\n",
       "      <th>14</th>\n",
       "      <th>14k</th>\n",
       "      <th>...</th>\n",
       "      <th>yobolaa</th>\n",
       "      <th>yobolat9</th>\n",
       "      <th>young</th>\n",
       "      <th>younger</th>\n",
       "      <th>youtube</th>\n",
       "      <th>yrs</th>\n",
       "      <th>zaa</th>\n",
       "      <th>zero</th>\n",
       "      <th>zone</th>\n",
       "      <th>zoom</th>\n",
       "    </tr>\n",
       "  </thead>\n",
       "  <tbody>\n",
       "    <tr>\n",
       "      <th>0</th>\n",
       "      <td>0.0</td>\n",
       "      <td>0.000000</td>\n",
       "      <td>0.00000</td>\n",
       "      <td>0.0</td>\n",
       "      <td>0.0</td>\n",
       "      <td>0.0</td>\n",
       "      <td>0.0</td>\n",
       "      <td>0.0</td>\n",
       "      <td>0.0</td>\n",
       "      <td>0.0</td>\n",
       "      <td>...</td>\n",
       "      <td>0.0</td>\n",
       "      <td>0.0</td>\n",
       "      <td>0.0</td>\n",
       "      <td>0.0</td>\n",
       "      <td>0.0</td>\n",
       "      <td>0.0</td>\n",
       "      <td>0.0</td>\n",
       "      <td>0.0</td>\n",
       "      <td>0.0</td>\n",
       "      <td>0.0</td>\n",
       "    </tr>\n",
       "    <tr>\n",
       "      <th>1</th>\n",
       "      <td>0.0</td>\n",
       "      <td>0.000000</td>\n",
       "      <td>0.15397</td>\n",
       "      <td>0.0</td>\n",
       "      <td>0.0</td>\n",
       "      <td>0.0</td>\n",
       "      <td>0.0</td>\n",
       "      <td>0.0</td>\n",
       "      <td>0.0</td>\n",
       "      <td>0.0</td>\n",
       "      <td>...</td>\n",
       "      <td>0.0</td>\n",
       "      <td>0.0</td>\n",
       "      <td>0.0</td>\n",
       "      <td>0.0</td>\n",
       "      <td>0.0</td>\n",
       "      <td>0.0</td>\n",
       "      <td>0.0</td>\n",
       "      <td>0.0</td>\n",
       "      <td>0.0</td>\n",
       "      <td>0.0</td>\n",
       "    </tr>\n",
       "    <tr>\n",
       "      <th>2</th>\n",
       "      <td>0.0</td>\n",
       "      <td>0.000000</td>\n",
       "      <td>0.00000</td>\n",
       "      <td>0.0</td>\n",
       "      <td>0.0</td>\n",
       "      <td>0.0</td>\n",
       "      <td>0.0</td>\n",
       "      <td>0.0</td>\n",
       "      <td>0.0</td>\n",
       "      <td>0.0</td>\n",
       "      <td>...</td>\n",
       "      <td>0.0</td>\n",
       "      <td>0.0</td>\n",
       "      <td>0.0</td>\n",
       "      <td>0.0</td>\n",
       "      <td>0.0</td>\n",
       "      <td>0.0</td>\n",
       "      <td>0.0</td>\n",
       "      <td>0.0</td>\n",
       "      <td>0.0</td>\n",
       "      <td>0.0</td>\n",
       "    </tr>\n",
       "    <tr>\n",
       "      <th>3</th>\n",
       "      <td>0.0</td>\n",
       "      <td>0.000000</td>\n",
       "      <td>0.00000</td>\n",
       "      <td>0.0</td>\n",
       "      <td>0.0</td>\n",
       "      <td>0.0</td>\n",
       "      <td>0.0</td>\n",
       "      <td>0.0</td>\n",
       "      <td>0.0</td>\n",
       "      <td>0.0</td>\n",
       "      <td>...</td>\n",
       "      <td>0.0</td>\n",
       "      <td>0.0</td>\n",
       "      <td>0.0</td>\n",
       "      <td>0.0</td>\n",
       "      <td>0.0</td>\n",
       "      <td>0.0</td>\n",
       "      <td>0.0</td>\n",
       "      <td>0.0</td>\n",
       "      <td>0.0</td>\n",
       "      <td>0.0</td>\n",
       "    </tr>\n",
       "    <tr>\n",
       "      <th>4</th>\n",
       "      <td>0.0</td>\n",
       "      <td>0.240528</td>\n",
       "      <td>0.00000</td>\n",
       "      <td>0.0</td>\n",
       "      <td>0.0</td>\n",
       "      <td>0.0</td>\n",
       "      <td>0.0</td>\n",
       "      <td>0.0</td>\n",
       "      <td>0.0</td>\n",
       "      <td>0.0</td>\n",
       "      <td>...</td>\n",
       "      <td>0.0</td>\n",
       "      <td>0.0</td>\n",
       "      <td>0.0</td>\n",
       "      <td>0.0</td>\n",
       "      <td>0.0</td>\n",
       "      <td>0.0</td>\n",
       "      <td>0.0</td>\n",
       "      <td>0.0</td>\n",
       "      <td>0.0</td>\n",
       "      <td>0.0</td>\n",
       "    </tr>\n",
       "  </tbody>\n",
       "</table>\n",
       "<p>5 rows × 3192 columns</p>\n",
       "</div>"
      ],
      "text/plain": [
       "    00        10      100  10x   11   12  120   13   14  14k  ...  yobolaa   \n",
       "0  0.0  0.000000  0.00000  0.0  0.0  0.0  0.0  0.0  0.0  0.0  ...      0.0  \\\n",
       "1  0.0  0.000000  0.15397  0.0  0.0  0.0  0.0  0.0  0.0  0.0  ...      0.0   \n",
       "2  0.0  0.000000  0.00000  0.0  0.0  0.0  0.0  0.0  0.0  0.0  ...      0.0   \n",
       "3  0.0  0.000000  0.00000  0.0  0.0  0.0  0.0  0.0  0.0  0.0  ...      0.0   \n",
       "4  0.0  0.240528  0.00000  0.0  0.0  0.0  0.0  0.0  0.0  0.0  ...      0.0   \n",
       "\n",
       "   yobolat9  young  younger  youtube  yrs  zaa  zero  zone  zoom  \n",
       "0       0.0    0.0      0.0      0.0  0.0  0.0   0.0   0.0   0.0  \n",
       "1       0.0    0.0      0.0      0.0  0.0  0.0   0.0   0.0   0.0  \n",
       "2       0.0    0.0      0.0      0.0  0.0  0.0   0.0   0.0   0.0  \n",
       "3       0.0    0.0      0.0      0.0  0.0  0.0   0.0   0.0   0.0  \n",
       "4       0.0    0.0      0.0      0.0  0.0  0.0   0.0   0.0   0.0  \n",
       "\n",
       "[5 rows x 3192 columns]"
      ]
     },
     "execution_count": 9,
     "metadata": {},
     "output_type": "execute_result"
    }
   ],
   "source": [
    "word_counts = pd.DataFrame.sparse.from_spmatrix(tfidf,columns=vocabulary)\n",
    "print(word_counts.shape)\n",
    "word_counts.head()"
   ]
  },
  {
   "cell_type": "code",
   "execution_count": 10,
   "id": "0ef474d2-947e-47ce-ba2b-d143a62131d1",
   "metadata": {},
   "outputs": [
    {
     "name": "stdout",
     "output_type": "stream",
     "text": [
      "top ten words:\n"
     ]
    },
    {
     "data": {
      "text/plain": [
       "good       134.184483\n",
       "great      121.302290\n",
       "quality    112.863007\n",
       "sound      105.313705\n",
       "price       87.006550\n",
       "earbuds     59.501822\n",
       "battery     59.283895\n",
       "use         54.495939\n",
       "product     54.351308\n",
       "ear         54.280666\n",
       "dtype: float64"
      ]
     },
     "execution_count": 10,
     "metadata": {},
     "output_type": "execute_result"
    }
   ],
   "source": [
    "# count words\n",
    "print('top ten words:')\n",
    "word_counts.sum().sort_values(ascending=False).head(10)"
   ]
  },
  {
   "cell_type": "code",
   "execution_count": 11,
   "id": "5075bd18-7cad-482b-9c5d-3de36414c7c5",
   "metadata": {},
   "outputs": [
    {
     "data": {
      "text/plain": [
       "3192"
      ]
     },
     "execution_count": 11,
     "metadata": {},
     "output_type": "execute_result"
    }
   ],
   "source": [
    "len(vocabulary)"
   ]
  },
  {
   "cell_type": "markdown",
   "id": "45483314-afda-42aa-9bc8-3153b3ec109e",
   "metadata": {},
   "source": [
    "### Train-Test Split"
   ]
  },
  {
   "cell_type": "code",
   "execution_count": 12,
   "id": "8ff75d8c-2a1e-439b-bda4-b28c7a839ddb",
   "metadata": {},
   "outputs": [],
   "source": [
    "# In the first step we will split the data in training and remaining dataset\n",
    "X = tfidf\n",
    "y = dfR.Label\n",
    "X_train, X_test, y_train, y_test = train_test_split(X,y, train_size=0.7, stratify = y)"
   ]
  },
  {
   "cell_type": "markdown",
   "id": "53f573d0-5f51-44eb-aec5-19bccd97eed0",
   "metadata": {},
   "source": [
    "### Naive Bayes"
   ]
  },
  {
   "cell_type": "code",
   "execution_count": 13,
   "id": "f0076055-e120-4886-bdf5-6ab190b2d1f9",
   "metadata": {},
   "outputs": [],
   "source": [
    "Xtr = X_train\n",
    "ytr = y_train"
   ]
  },
  {
   "cell_type": "code",
   "execution_count": 14,
   "id": "efb5c076-b0ba-4e65-a6d2-a4f82c10b5b1",
   "metadata": {},
   "outputs": [
    {
     "name": "stderr",
     "output_type": "stream",
     "text": [
      "/opt/anaconda3/lib/python3.9/site-packages/sklearn/naive_bayes.py:629: FutureWarning: The default value for `force_alpha` will change to `True` in 1.4. To suppress this warning, manually set the value of `force_alpha`.\n",
      "  warnings.warn(\n",
      "/opt/anaconda3/lib/python3.9/site-packages/sklearn/naive_bayes.py:629: FutureWarning: The default value for `force_alpha` will change to `True` in 1.4. To suppress this warning, manually set the value of `force_alpha`.\n",
      "  warnings.warn(\n",
      "/opt/anaconda3/lib/python3.9/site-packages/sklearn/naive_bayes.py:629: FutureWarning: The default value for `force_alpha` will change to `True` in 1.4. To suppress this warning, manually set the value of `force_alpha`.\n",
      "  warnings.warn(\n",
      "/opt/anaconda3/lib/python3.9/site-packages/sklearn/naive_bayes.py:629: FutureWarning: The default value for `force_alpha` will change to `True` in 1.4. To suppress this warning, manually set the value of `force_alpha`.\n",
      "  warnings.warn(\n",
      "/opt/anaconda3/lib/python3.9/site-packages/sklearn/naive_bayes.py:635: UserWarning: alpha too small will result in numeric errors, setting alpha = 1.0e-10. Use `force_alpha=True` to keep alpha unchanged.\n",
      "  warnings.warn(\n",
      "/opt/anaconda3/lib/python3.9/site-packages/sklearn/naive_bayes.py:635: UserWarning: alpha too small will result in numeric errors, setting alpha = 1.0e-10. Use `force_alpha=True` to keep alpha unchanged.\n",
      "  warnings.warn(\n",
      "/opt/anaconda3/lib/python3.9/site-packages/sklearn/naive_bayes.py:635: UserWarning: alpha too small will result in numeric errors, setting alpha = 1.0e-10. Use `force_alpha=True` to keep alpha unchanged.\n",
      "  warnings.warn(\n",
      "/opt/anaconda3/lib/python3.9/site-packages/sklearn/naive_bayes.py:635: UserWarning: alpha too small will result in numeric errors, setting alpha = 1.0e-10. Use `force_alpha=True` to keep alpha unchanged.\n",
      "  warnings.warn(\n",
      "/opt/anaconda3/lib/python3.9/site-packages/sklearn/naive_bayes.py:629: FutureWarning: The default value for `force_alpha` will change to `True` in 1.4. To suppress this warning, manually set the value of `force_alpha`.\n",
      "  warnings.warn(\n",
      "/opt/anaconda3/lib/python3.9/site-packages/sklearn/naive_bayes.py:635: UserWarning: alpha too small will result in numeric errors, setting alpha = 1.0e-10. Use `force_alpha=True` to keep alpha unchanged.\n",
      "  warnings.warn(\n"
     ]
    },
    {
     "data": {
      "text/html": [
       "<style>#sk-container-id-1 {color: black;background-color: white;}#sk-container-id-1 pre{padding: 0;}#sk-container-id-1 div.sk-toggleable {background-color: white;}#sk-container-id-1 label.sk-toggleable__label {cursor: pointer;display: block;width: 100%;margin-bottom: 0;padding: 0.3em;box-sizing: border-box;text-align: center;}#sk-container-id-1 label.sk-toggleable__label-arrow:before {content: \"▸\";float: left;margin-right: 0.25em;color: #696969;}#sk-container-id-1 label.sk-toggleable__label-arrow:hover:before {color: black;}#sk-container-id-1 div.sk-estimator:hover label.sk-toggleable__label-arrow:before {color: black;}#sk-container-id-1 div.sk-toggleable__content {max-height: 0;max-width: 0;overflow: hidden;text-align: left;background-color: #f0f8ff;}#sk-container-id-1 div.sk-toggleable__content pre {margin: 0.2em;color: black;border-radius: 0.25em;background-color: #f0f8ff;}#sk-container-id-1 input.sk-toggleable__control:checked~div.sk-toggleable__content {max-height: 200px;max-width: 100%;overflow: auto;}#sk-container-id-1 input.sk-toggleable__control:checked~label.sk-toggleable__label-arrow:before {content: \"▾\";}#sk-container-id-1 div.sk-estimator input.sk-toggleable__control:checked~label.sk-toggleable__label {background-color: #d4ebff;}#sk-container-id-1 div.sk-label input.sk-toggleable__control:checked~label.sk-toggleable__label {background-color: #d4ebff;}#sk-container-id-1 input.sk-hidden--visually {border: 0;clip: rect(1px 1px 1px 1px);clip: rect(1px, 1px, 1px, 1px);height: 1px;margin: -1px;overflow: hidden;padding: 0;position: absolute;width: 1px;}#sk-container-id-1 div.sk-estimator {font-family: monospace;background-color: #f0f8ff;border: 1px dotted black;border-radius: 0.25em;box-sizing: border-box;margin-bottom: 0.5em;}#sk-container-id-1 div.sk-estimator:hover {background-color: #d4ebff;}#sk-container-id-1 div.sk-parallel-item::after {content: \"\";width: 100%;border-bottom: 1px solid gray;flex-grow: 1;}#sk-container-id-1 div.sk-label:hover label.sk-toggleable__label {background-color: #d4ebff;}#sk-container-id-1 div.sk-serial::before {content: \"\";position: absolute;border-left: 1px solid gray;box-sizing: border-box;top: 0;bottom: 0;left: 50%;z-index: 0;}#sk-container-id-1 div.sk-serial {display: flex;flex-direction: column;align-items: center;background-color: white;padding-right: 0.2em;padding-left: 0.2em;position: relative;}#sk-container-id-1 div.sk-item {position: relative;z-index: 1;}#sk-container-id-1 div.sk-parallel {display: flex;align-items: stretch;justify-content: center;background-color: white;position: relative;}#sk-container-id-1 div.sk-item::before, #sk-container-id-1 div.sk-parallel-item::before {content: \"\";position: absolute;border-left: 1px solid gray;box-sizing: border-box;top: 0;bottom: 0;left: 50%;z-index: -1;}#sk-container-id-1 div.sk-parallel-item {display: flex;flex-direction: column;z-index: 1;position: relative;background-color: white;}#sk-container-id-1 div.sk-parallel-item:first-child::after {align-self: flex-end;width: 50%;}#sk-container-id-1 div.sk-parallel-item:last-child::after {align-self: flex-start;width: 50%;}#sk-container-id-1 div.sk-parallel-item:only-child::after {width: 0;}#sk-container-id-1 div.sk-dashed-wrapped {border: 1px dashed gray;margin: 0 0.4em 0.5em 0.4em;box-sizing: border-box;padding-bottom: 0.4em;background-color: white;}#sk-container-id-1 div.sk-label label {font-family: monospace;font-weight: bold;display: inline-block;line-height: 1.2em;}#sk-container-id-1 div.sk-label-container {text-align: center;}#sk-container-id-1 div.sk-container {/* jupyter's `normalize.less` sets `[hidden] { display: none; }` but bootstrap.min.css set `[hidden] { display: none !important; }` so we also need the `!important` here to be able to override the default hidden behavior on the sphinx rendered scikit-learn.org. See: https://github.com/scikit-learn/scikit-learn/issues/21755 */display: inline-block !important;position: relative;}#sk-container-id-1 div.sk-text-repr-fallback {display: none;}</style><div id=\"sk-container-id-1\" class=\"sk-top-container\"><div class=\"sk-text-repr-fallback\"><pre>GridSearchCV(estimator=MultinomialNB(), n_jobs=-1,\n",
       "             param_grid={&#x27;alpha&#x27;: array([ 0.,  1.,  2.,  3.,  4.,  5.,  6.,  7.,  8.,  9., 10.])},\n",
       "             return_train_score=True)</pre><b>In a Jupyter environment, please rerun this cell to show the HTML representation or trust the notebook. <br />On GitHub, the HTML representation is unable to render, please try loading this page with nbviewer.org.</b></div><div class=\"sk-container\" hidden><div class=\"sk-item sk-dashed-wrapped\"><div class=\"sk-label-container\"><div class=\"sk-label sk-toggleable\"><input class=\"sk-toggleable__control sk-hidden--visually\" id=\"sk-estimator-id-1\" type=\"checkbox\" ><label for=\"sk-estimator-id-1\" class=\"sk-toggleable__label sk-toggleable__label-arrow\">GridSearchCV</label><div class=\"sk-toggleable__content\"><pre>GridSearchCV(estimator=MultinomialNB(), n_jobs=-1,\n",
       "             param_grid={&#x27;alpha&#x27;: array([ 0.,  1.,  2.,  3.,  4.,  5.,  6.,  7.,  8.,  9., 10.])},\n",
       "             return_train_score=True)</pre></div></div></div><div class=\"sk-parallel\"><div class=\"sk-parallel-item\"><div class=\"sk-item\"><div class=\"sk-label-container\"><div class=\"sk-label sk-toggleable\"><input class=\"sk-toggleable__control sk-hidden--visually\" id=\"sk-estimator-id-2\" type=\"checkbox\" ><label for=\"sk-estimator-id-2\" class=\"sk-toggleable__label sk-toggleable__label-arrow\">estimator: MultinomialNB</label><div class=\"sk-toggleable__content\"><pre>MultinomialNB()</pre></div></div></div><div class=\"sk-serial\"><div class=\"sk-item\"><div class=\"sk-estimator sk-toggleable\"><input class=\"sk-toggleable__control sk-hidden--visually\" id=\"sk-estimator-id-3\" type=\"checkbox\" ><label for=\"sk-estimator-id-3\" class=\"sk-toggleable__label sk-toggleable__label-arrow\">MultinomialNB</label><div class=\"sk-toggleable__content\"><pre>MultinomialNB()</pre></div></div></div></div></div></div></div></div></div></div>"
      ],
      "text/plain": [
       "GridSearchCV(estimator=MultinomialNB(), n_jobs=-1,\n",
       "             param_grid={'alpha': array([ 0.,  1.,  2.,  3.,  4.,  5.,  6.,  7.,  8.,  9., 10.])},\n",
       "             return_train_score=True)"
      ]
     },
     "execution_count": 14,
     "metadata": {},
     "output_type": "execute_result"
    }
   ],
   "source": [
    "grid = {'alpha': np.linspace(0,10,11)}\n",
    "nbayes = MultinomialNB()\n",
    "nbayesCV = GridSearchCV(nbayes, param_grid=grid, return_train_score=True, n_jobs=-1)\n",
    "nbayesCV.fit(Xtr,ytr)"
   ]
  },
  {
   "cell_type": "code",
   "execution_count": 15,
   "id": "7a962488-d461-49bf-a565-6ce16bc2cdf1",
   "metadata": {},
   "outputs": [
    {
     "data": {
      "text/plain": [
       "<Axes: xlabel='alpha'>"
      ]
     },
     "execution_count": 15,
     "metadata": {},
     "output_type": "execute_result"
    },
    {
     "data": {
      "image/png": "[encoded data removed]",
      "text/plain": [
       "<Figure size 640x480 with 1 Axes>"
      ]
     },
     "metadata": {},
     "output_type": "display_data"
    }
   ],
   "source": [
    "results = pd.DataFrame()\n",
    "results['alpha'] = grid['alpha']\n",
    "results['train'] = nbayesCV.cv_results_['mean_train_score']\n",
    "results['valid'] = nbayesCV.cv_results_['mean_test_score']\n",
    "results['baseline'] = acc_baseline\n",
    "results.plot.line(x='alpha',y=['train','valid','baseline'])"
   ]
  },
  {
   "cell_type": "code",
   "execution_count": 16,
   "id": "332af7ac-a56a-4812-b15b-2dc4cc3b651a",
   "metadata": {},
   "outputs": [
    {
     "data": {
      "text/plain": [
       "{'alpha': 1.0}"
      ]
     },
     "execution_count": 16,
     "metadata": {},
     "output_type": "execute_result"
    }
   ],
   "source": [
    "nbayesCV.best_params_"
   ]
  },
  {
   "cell_type": "code",
   "execution_count": 17,
   "id": "223410d3-89a2-429a-9fc6-2aab8e6fb03b",
   "metadata": {},
   "outputs": [
    {
     "name": "stdout",
     "output_type": "stream",
     "text": [
      "Naive Bayes validation accuracy rate: 0.759\n"
     ]
    }
   ],
   "source": [
    "acc_nbayes = nbayesCV.best_score_\n",
    "print('Naive Bayes validation accuracy rate:',acc_nbayes.round(3))"
   ]
  },
  {
   "cell_type": "code",
   "execution_count": 18,
   "id": "ec30789f-598f-4a0d-a9e3-0aa94c4edf33",
   "metadata": {},
   "outputs": [
    {
     "name": "stdout",
     "output_type": "stream",
     "text": [
      "Baseline accuracy rate: 0.758\n"
     ]
    }
   ],
   "source": [
    "print('Baseline accuracy rate:',round(acc_baseline,3))"
   ]
  },
  {
   "cell_type": "code",
   "execution_count": 19,
   "id": "f8e8fc88-3cc8-40f0-818a-358c65703a11",
   "metadata": {},
   "outputs": [
    {
     "name": "stdout",
     "output_type": "stream",
     "text": [
      "Training accuracy rate: 1    0.762\n",
      "Name: train, dtype: float64\n"
     ]
    }
   ],
   "source": [
    "print('Training accuracy rate:',round(results[results['alpha'] == 1]['train'],3))"
   ]
  },
  {
   "cell_type": "markdown",
   "id": "2eb6a874-2532-4903-a16d-6145795f5f12",
   "metadata": {},
   "source": [
    "### Predict on Test Set"
   ]
  },
  {
   "cell_type": "code",
   "execution_count": 20,
   "id": "62da0c41-af16-42f8-b646-b49202cc388d",
   "metadata": {},
   "outputs": [
    {
     "name": "stdout",
     "output_type": "stream",
     "text": [
      "Test accuracy rate: 0.758\n"
     ]
    }
   ],
   "source": [
    "acc_test = nbayesCV.score(X_test, y_test)\n",
    "print('Test accuracy rate:',round(acc_test,3))"
   ]
  }
 ],
 "metadata": {
  "kernelspec": {
   "display_name": "Python 3 (ipykernel)",
   "language": "python",
   "name": "python3"
  },
  "language_info": {
   "codemirror_mode": {
    "name": "ipython",
    "version": 3
   },
   "file_extension": ".py",
   "mimetype": "text/x-python",
   "name": "python",
   "nbconvert_exporter": "python",
   "pygments_lexer": "ipython3",
   "version": "3.9.16"
  }
 },
 "nbformat": 4,
 "nbformat_minor": 5
}
